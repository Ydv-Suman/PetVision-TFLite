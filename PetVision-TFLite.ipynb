{
 "cells": [
  {
   "cell_type": "markdown",
   "metadata": {
    "id": "LARVV6449s5F"
   },
   "source": [
    "## import dependencies"
   ]
  },
  {
   "cell_type": "code",
   "execution_count": 1,
   "metadata": {},
   "outputs": [],
   "source": [
    "import numpy as np\n",
    "import matplotlib.pyplot as plt\n",
    "import pandas as pd\n",
    "\n",
    "import tensorflow as tf\n",
    "import tensorflow_hub as hub\n",
    "import tensorflow_datasets as tfds"
   ]
  },
  {
   "cell_type": "markdown",
   "metadata": {
    "id": "yjQgrR0BUZAm"
   },
   "source": [
    "# Load Cats vs Dogs dataset with train, validation, test splits"
   ]
  },
  {
   "cell_type": "code",
   "execution_count": 2,
   "metadata": {},
   "outputs": [
    {
     "name": "stderr",
     "output_type": "stream",
     "text": [
      "WARNING:absl:Variant folder /root/tensorflow_datasets/cats_vs_dogs/4.0.1 has no dataset_info.json\n"
     ]
    },
    {
     "name": "stdout",
     "output_type": "stream",
     "text": [
      "Downloading and preparing dataset Unknown size (download: Unknown size, generated: Unknown size, total: Unknown size) to /root/tensorflow_datasets/cats_vs_dogs/4.0.1...\n"
     ]
    },
    {
     "data": {
      "application/vnd.jupyter.widget-view+json": {
       "model_id": "f4b6324e13a2486ea079ad986354d0ae",
       "version_major": 2,
       "version_minor": 0
      },
      "text/plain": [
       "Dl Completed...: 0 url [00:00, ? url/s]"
      ]
     },
     "metadata": {},
     "output_type": "display_data"
    },
    {
     "data": {
      "application/vnd.jupyter.widget-view+json": {
       "model_id": "15f75ee55e0f46bea6e96979c8cb84dc",
       "version_major": 2,
       "version_minor": 0
      },
      "text/plain": [
       "Dl Size...: 0 MiB [00:00, ? MiB/s]"
      ]
     },
     "metadata": {},
     "output_type": "display_data"
    },
    {
     "data": {
      "application/vnd.jupyter.widget-view+json": {
       "model_id": "d55e8c8f2d694ee5a0f0c35aa1e47161",
       "version_major": 2,
       "version_minor": 0
      },
      "text/plain": [
       "Generating splits...:   0%|          | 0/1 [00:00<?, ? splits/s]"
      ]
     },
     "metadata": {},
     "output_type": "display_data"
    },
    {
     "data": {
      "application/vnd.jupyter.widget-view+json": {
       "model_id": "47682a9830444120aaa4513fc3145795",
       "version_major": 2,
       "version_minor": 0
      },
      "text/plain": [
       "Generating train examples...: 0 examples [00:00, ? examples/s]"
      ]
     },
     "metadata": {},
     "output_type": "display_data"
    },
    {
     "name": "stderr",
     "output_type": "stream",
     "text": [
      "WARNING:absl:1738 images were corrupted and were skipped\n"
     ]
    },
    {
     "data": {
      "application/vnd.jupyter.widget-view+json": {
       "model_id": "d2bff9b8686e407798691ca610d292b9",
       "version_major": 2,
       "version_minor": 0
      },
      "text/plain": [
       "Shuffling /root/tensorflow_datasets/cats_vs_dogs/incomplete.0C6AVX_4.0.1/cats_vs_dogs-train.tfrecord*...:   0%…"
      ]
     },
     "metadata": {},
     "output_type": "display_data"
    },
    {
     "name": "stdout",
     "output_type": "stream",
     "text": [
      "Dataset cats_vs_dogs downloaded and prepared to /root/tensorflow_datasets/cats_vs_dogs/4.0.1. Subsequent calls will reuse this data.\n",
      "23262\n",
      "2\n"
     ]
    }
   ],
   "source": [
    "(train, validation, test), metadata = tfds.load(\n",
    "                                        'cats_vs_dogs',\n",
    "                                        split=['train[:80%]', 'train[80%:90%]', 'train[90%:]'],\n",
    "                                        with_info=True,\n",
    "                                        as_supervised=True\n",
    "                                      )\n",
    "num_examples = metadata.splits['train'].num_examples\n",
    "num_classes = metadata.features['label'].num_classes\n",
    "print(num_examples)\n",
    "print(num_classes)"
   ]
  },
  {
   "cell_type": "markdown",
   "metadata": {
    "id": "kCcWtOiiB0iz"
   },
   "source": [
    "# Resize and normalize images"
   ]
  },
  {
   "cell_type": "code",
   "execution_count": 3,
   "metadata": {},
   "outputs": [],
   "source": [
    "IMAGE_SIZE = (224, 224)\n",
    "\n",
    "def format_image(image, label):\n",
    "    image = tf.image.resize(image, IMAGE_SIZE) / 255.0\n",
    "    return image, label"
   ]
  },
  {
   "cell_type": "markdown",
   "metadata": {
    "id": "J0Gd-6YeB4fT"
   },
   "source": [
    "# Prepare batches for training, validation, and testing"
   ]
  },
  {
   "cell_type": "code",
   "execution_count": 4,
   "metadata": {},
   "outputs": [],
   "source": [
    "BATCH_SIZE = 32\n",
    "\n",
    "## Training Batch\n",
    "train_batches = train.shuffle(num_examples // 4).map(format_image).batch(BATCH_SIZE).prefetch(1)\n",
    "\n",
    "## Validation Batch\n",
    "validation_batches = validation.map(format_image).batch(BATCH_SIZE).prefetch(1)\n",
    "\n",
    "## Test batch\n",
    "test_batches = test.map(format_image).batch(1)"
   ]
  },
  {
   "cell_type": "markdown",
   "metadata": {
    "id": "pGS1efQJB7qK"
   },
   "source": [
    "# Load MobileNetV2 base model without top layers, pretrained on ImageNet"
   ]
  },
  {
   "cell_type": "code",
   "execution_count": 5,
   "metadata": {},
   "outputs": [
    {
     "name": "stdout",
     "output_type": "stream",
     "text": [
      "Downloading data from https://storage.googleapis.com/tensorflow/keras-applications/mobilenet_v2/mobilenet_v2_weights_tf_dim_ordering_tf_kernels_1.0_224_no_top.h5\n",
      "\u001b[1m9406464/9406464\u001b[0m \u001b[32m━━━━━━━━━━━━━━━━━━━━\u001b[0m\u001b[37m\u001b[0m \u001b[1m1s\u001b[0m 0us/step\n"
     ]
    }
   ],
   "source": [
    "base_model = tf.keras.applications.MobileNetV2(\n",
    "        input_shape=IMAGE_SIZE + (3,),\n",
    "        include_top=False,\n",
    "        weights='imagenet',\n",
    "        pooling='avg'  # Global average pooling\n",
    "    )\n",
    "\n",
    "    # Freeze the base model\n",
    "base_model.trainable = False\n",
    "\n",
    "    # Build the model\n",
    "model = tf.keras.Sequential([\n",
    "        base_model,\n",
    "        tf.keras.layers.Dense(num_classes, activation='softmax')\n",
    "    ])"
   ]
  },
  {
   "cell_type": "markdown",
   "metadata": {
    "id": "HBa4I3kuWjkO"
   },
   "source": [
    "# Compile and train"
   ]
  },
  {
   "cell_type": "code",
   "execution_count": 6,
   "metadata": {},
   "outputs": [
    {
     "name": "stdout",
     "output_type": "stream",
     "text": [
      "Epoch 1/5\n",
      "\u001b[1m582/582\u001b[0m \u001b[32m━━━━━━━━━━━━━━━━━━━━\u001b[0m\u001b[37m\u001b[0m \u001b[1m68s\u001b[0m 83ms/step - accuracy: 0.9653 - loss: 0.0966 - val_accuracy: 0.9807 - val_loss: 0.0524\n",
      "Epoch 2/5\n",
      "\u001b[1m582/582\u001b[0m \u001b[32m━━━━━━━━━━━━━━━━━━━━\u001b[0m\u001b[37m\u001b[0m \u001b[1m40s\u001b[0m 56ms/step - accuracy: 0.9852 - loss: 0.0432 - val_accuracy: 0.9832 - val_loss: 0.0530\n",
      "Epoch 3/5\n",
      "\u001b[1m582/582\u001b[0m \u001b[32m━━━━━━━━━━━━━━━━━━━━\u001b[0m\u001b[37m\u001b[0m \u001b[1m39s\u001b[0m 56ms/step - accuracy: 0.9871 - loss: 0.0347 - val_accuracy: 0.9811 - val_loss: 0.0559\n",
      "Epoch 4/5\n",
      "\u001b[1m582/582\u001b[0m \u001b[32m━━━━━━━━━━━━━━━━━━━━\u001b[0m\u001b[37m\u001b[0m \u001b[1m43s\u001b[0m 57ms/step - accuracy: 0.9893 - loss: 0.0335 - val_accuracy: 0.9819 - val_loss: 0.0609\n",
      "Epoch 5/5\n",
      "\u001b[1m582/582\u001b[0m \u001b[32m━━━━━━━━━━━━━━━━━━━━\u001b[0m\u001b[37m\u001b[0m \u001b[1m41s\u001b[0m 59ms/step - accuracy: 0.9891 - loss: 0.0319 - val_accuracy: 0.9802 - val_loss: 0.0598\n"
     ]
    }
   ],
   "source": [
    "base_model = tf.keras.applications.MobileNetV2(input_shape=IMAGE_SIZE + (3,),\n",
    "                                               include_top=False,\n",
    "                                               weights='imagenet')\n",
    "\n",
    "# Freeze the base model\n",
    "base_model.trainable = False\n",
    "\n",
    "# Build the model\n",
    "model = tf.keras.Sequential([\n",
    "    base_model,\n",
    "    tf.keras.layers.GlobalAveragePooling2D(),\n",
    "    tf.keras.layers.Dense(num_classes, activation='softmax')\n",
    "])\n",
    "\n",
    "model.compile(optimizer='adam',\n",
    "              loss='sparse_categorical_crossentropy',\n",
    "              metrics=['accuracy'])\n",
    "\n",
    "history = model.fit(train_batches, epochs=5, validation_data=validation_batches)"
   ]
  },
  {
   "cell_type": "markdown",
   "metadata": {
    "id": "55ZbFLhECDV2"
   },
   "source": [
    "# Save model in SavedModel format"
   ]
  },
  {
   "cell_type": "code",
   "execution_count": 7,
   "metadata": {},
   "outputs": [],
   "source": [
    "PetVision_model = \"/content/drive/MyDrive/PetVision-TFLite/pet_vision_model\"\n",
    "tf.saved_model.save(model, PetVision_model)"
   ]
  },
  {
   "cell_type": "markdown",
   "metadata": {
    "id": "07pvMFyVzI0_"
   },
   "source": [
    "# Convert to TensorFlow Lite model"
   ]
  },
  {
   "cell_type": "code",
   "execution_count": 8,
   "metadata": {},
   "outputs": [
    {
     "name": "stdout",
     "output_type": "stream",
     "text": [
      "Saved artifact at '/tmp/tmpgtsi08fc'. The following endpoints are available:\n",
      "\n",
      "* Endpoint 'serve'\n",
      "  args_0 (POSITIONAL_ONLY): TensorSpec(shape=(None, 224, 224, 3), dtype=tf.float32, name='keras_tensor_312')\n",
      "Output Type:\n",
      "  TensorSpec(shape=(None, 2), dtype=tf.float32, name=None)\n",
      "Captures:\n",
      "  132708096319248: TensorSpec(shape=(), dtype=tf.resource, name=None)\n",
      "  132708055891408: TensorSpec(shape=(), dtype=tf.resource, name=None)\n",
      "  132708096320016: TensorSpec(shape=(), dtype=tf.resource, name=None)\n",
      "  132708054718544: TensorSpec(shape=(), dtype=tf.resource, name=None)\n",
      "  132708096319632: TensorSpec(shape=(), dtype=tf.resource, name=None)\n",
      "  132708096319824: TensorSpec(shape=(), dtype=tf.resource, name=None)\n",
      "  132708055891600: TensorSpec(shape=(), dtype=tf.resource, name=None)\n",
      "  132708047613264: TensorSpec(shape=(), dtype=tf.resource, name=None)\n",
      "  132708096319440: TensorSpec(shape=(), dtype=tf.resource, name=None)\n",
      "  132708054717584: TensorSpec(shape=(), dtype=tf.resource, name=None)\n",
      "  132708047613456: TensorSpec(shape=(), dtype=tf.resource, name=None)\n",
      "  132708047612880: TensorSpec(shape=(), dtype=tf.resource, name=None)\n",
      "  132708047612688: TensorSpec(shape=(), dtype=tf.resource, name=None)\n",
      "  132708047609424: TensorSpec(shape=(), dtype=tf.resource, name=None)\n",
      "  132708047614224: TensorSpec(shape=(), dtype=tf.resource, name=None)\n",
      "  132708047611344: TensorSpec(shape=(), dtype=tf.resource, name=None)\n",
      "  132708047613072: TensorSpec(shape=(), dtype=tf.resource, name=None)\n",
      "  132708047614032: TensorSpec(shape=(), dtype=tf.resource, name=None)\n",
      "  132708047613840: TensorSpec(shape=(), dtype=tf.resource, name=None)\n",
      "  132708047615184: TensorSpec(shape=(), dtype=tf.resource, name=None)\n",
      "  132708047614608: TensorSpec(shape=(), dtype=tf.resource, name=None)\n",
      "  132708047614800: TensorSpec(shape=(), dtype=tf.resource, name=None)\n",
      "  132708047614992: TensorSpec(shape=(), dtype=tf.resource, name=None)\n",
      "  132708047613648: TensorSpec(shape=(), dtype=tf.resource, name=None)\n",
      "  132708047616144: TensorSpec(shape=(), dtype=tf.resource, name=None)\n",
      "  132708047615568: TensorSpec(shape=(), dtype=tf.resource, name=None)\n",
      "  132708047615760: TensorSpec(shape=(), dtype=tf.resource, name=None)\n",
      "  132708047615952: TensorSpec(shape=(), dtype=tf.resource, name=None)\n",
      "  132708047612304: TensorSpec(shape=(), dtype=tf.resource, name=None)\n",
      "  132708047617104: TensorSpec(shape=(), dtype=tf.resource, name=None)\n",
      "  132708047616528: TensorSpec(shape=(), dtype=tf.resource, name=None)\n",
      "  132708047616720: TensorSpec(shape=(), dtype=tf.resource, name=None)\n",
      "  132708047616336: TensorSpec(shape=(), dtype=tf.resource, name=None)\n",
      "  132708047617872: TensorSpec(shape=(), dtype=tf.resource, name=None)\n",
      "  132708047617296: TensorSpec(shape=(), dtype=tf.resource, name=None)\n",
      "  132708047615376: TensorSpec(shape=(), dtype=tf.resource, name=None)\n",
      "  132708047617488: TensorSpec(shape=(), dtype=tf.resource, name=None)\n",
      "  132708047617680: TensorSpec(shape=(), dtype=tf.resource, name=None)\n",
      "  132708047616912: TensorSpec(shape=(), dtype=tf.resource, name=None)\n",
      "  132708047614416: TensorSpec(shape=(), dtype=tf.resource, name=None)\n",
      "  132708048814352: TensorSpec(shape=(), dtype=tf.resource, name=None)\n",
      "  132708048815504: TensorSpec(shape=(), dtype=tf.resource, name=None)\n",
      "  132708048815312: TensorSpec(shape=(), dtype=tf.resource, name=None)\n",
      "  132708048814928: TensorSpec(shape=(), dtype=tf.resource, name=None)\n",
      "  132708048816080: TensorSpec(shape=(), dtype=tf.resource, name=None)\n",
      "  132708048814544: TensorSpec(shape=(), dtype=tf.resource, name=None)\n",
      "  132708048815696: TensorSpec(shape=(), dtype=tf.resource, name=None)\n",
      "  132708048815888: TensorSpec(shape=(), dtype=tf.resource, name=None)\n",
      "  132708048814160: TensorSpec(shape=(), dtype=tf.resource, name=None)\n",
      "  132708048817040: TensorSpec(shape=(), dtype=tf.resource, name=None)\n",
      "  132708048816464: TensorSpec(shape=(), dtype=tf.resource, name=None)\n",
      "  132708048816656: TensorSpec(shape=(), dtype=tf.resource, name=None)\n",
      "  132708048816848: TensorSpec(shape=(), dtype=tf.resource, name=None)\n",
      "  132708048814736: TensorSpec(shape=(), dtype=tf.resource, name=None)\n",
      "  132708048818000: TensorSpec(shape=(), dtype=tf.resource, name=None)\n",
      "  132708048817424: TensorSpec(shape=(), dtype=tf.resource, name=None)\n",
      "  132708048817616: TensorSpec(shape=(), dtype=tf.resource, name=None)\n",
      "  132708048817808: TensorSpec(shape=(), dtype=tf.resource, name=None)\n",
      "  132708048815120: TensorSpec(shape=(), dtype=tf.resource, name=None)\n",
      "  132708048818960: TensorSpec(shape=(), dtype=tf.resource, name=None)\n",
      "  132708048818384: TensorSpec(shape=(), dtype=tf.resource, name=None)\n",
      "  132708048818576: TensorSpec(shape=(), dtype=tf.resource, name=None)\n",
      "  132708048818768: TensorSpec(shape=(), dtype=tf.resource, name=None)\n",
      "  132708048816272: TensorSpec(shape=(), dtype=tf.resource, name=None)\n",
      "  132708048819920: TensorSpec(shape=(), dtype=tf.resource, name=None)\n",
      "  132708048819344: TensorSpec(shape=(), dtype=tf.resource, name=None)\n",
      "  132708048819536: TensorSpec(shape=(), dtype=tf.resource, name=None)\n",
      "  132708048819728: TensorSpec(shape=(), dtype=tf.resource, name=None)\n",
      "  132708048817232: TensorSpec(shape=(), dtype=tf.resource, name=None)\n",
      "  132708048820880: TensorSpec(shape=(), dtype=tf.resource, name=None)\n",
      "  132708048820304: TensorSpec(shape=(), dtype=tf.resource, name=None)\n",
      "  132708048820496: TensorSpec(shape=(), dtype=tf.resource, name=None)\n",
      "  132708048820688: TensorSpec(shape=(), dtype=tf.resource, name=None)\n",
      "  132708048818192: TensorSpec(shape=(), dtype=tf.resource, name=None)\n",
      "  132708048821840: TensorSpec(shape=(), dtype=tf.resource, name=None)\n",
      "  132708048821264: TensorSpec(shape=(), dtype=tf.resource, name=None)\n",
      "  132708048821456: TensorSpec(shape=(), dtype=tf.resource, name=None)\n",
      "  132708048821648: TensorSpec(shape=(), dtype=tf.resource, name=None)\n",
      "  132708048819152: TensorSpec(shape=(), dtype=tf.resource, name=None)\n",
      "  132708048822800: TensorSpec(shape=(), dtype=tf.resource, name=None)\n",
      "  132708048822224: TensorSpec(shape=(), dtype=tf.resource, name=None)\n",
      "  132708048822416: TensorSpec(shape=(), dtype=tf.resource, name=None)\n",
      "  132708048822608: TensorSpec(shape=(), dtype=tf.resource, name=None)\n",
      "  132708048820112: TensorSpec(shape=(), dtype=tf.resource, name=None)\n",
      "  132708048823760: TensorSpec(shape=(), dtype=tf.resource, name=None)\n",
      "  132708048823184: TensorSpec(shape=(), dtype=tf.resource, name=None)\n",
      "  132708048823376: TensorSpec(shape=(), dtype=tf.resource, name=None)\n",
      "  132708048823568: TensorSpec(shape=(), dtype=tf.resource, name=None)\n",
      "  132708048821072: TensorSpec(shape=(), dtype=tf.resource, name=None)\n",
      "  132708048824720: TensorSpec(shape=(), dtype=tf.resource, name=None)\n",
      "  132708048824144: TensorSpec(shape=(), dtype=tf.resource, name=None)\n",
      "  132708048824336: TensorSpec(shape=(), dtype=tf.resource, name=None)\n",
      "  132708048824528: TensorSpec(shape=(), dtype=tf.resource, name=None)\n",
      "  132708048822032: TensorSpec(shape=(), dtype=tf.resource, name=None)\n",
      "  132708048825680: TensorSpec(shape=(), dtype=tf.resource, name=None)\n",
      "  132708048825104: TensorSpec(shape=(), dtype=tf.resource, name=None)\n",
      "  132708048825296: TensorSpec(shape=(), dtype=tf.resource, name=None)\n",
      "  132708048825488: TensorSpec(shape=(), dtype=tf.resource, name=None)\n",
      "  132708048822992: TensorSpec(shape=(), dtype=tf.resource, name=None)\n",
      "  132708048826640: TensorSpec(shape=(), dtype=tf.resource, name=None)\n",
      "  132708048826064: TensorSpec(shape=(), dtype=tf.resource, name=None)\n",
      "  132708048826256: TensorSpec(shape=(), dtype=tf.resource, name=None)\n",
      "  132708048826448: TensorSpec(shape=(), dtype=tf.resource, name=None)\n",
      "  132708048823952: TensorSpec(shape=(), dtype=tf.resource, name=None)\n",
      "  132708048827600: TensorSpec(shape=(), dtype=tf.resource, name=None)\n",
      "  132708048827024: TensorSpec(shape=(), dtype=tf.resource, name=None)\n",
      "  132708048827216: TensorSpec(shape=(), dtype=tf.resource, name=None)\n",
      "  132708048827408: TensorSpec(shape=(), dtype=tf.resource, name=None)\n",
      "  132708048824912: TensorSpec(shape=(), dtype=tf.resource, name=None)\n",
      "  132708048828560: TensorSpec(shape=(), dtype=tf.resource, name=None)\n",
      "  132708048827984: TensorSpec(shape=(), dtype=tf.resource, name=None)\n",
      "  132708048828176: TensorSpec(shape=(), dtype=tf.resource, name=None)\n",
      "  132708048828368: TensorSpec(shape=(), dtype=tf.resource, name=None)\n",
      "  132708048825872: TensorSpec(shape=(), dtype=tf.resource, name=None)\n",
      "  132708048829520: TensorSpec(shape=(), dtype=tf.resource, name=None)\n",
      "  132708048828944: TensorSpec(shape=(), dtype=tf.resource, name=None)\n",
      "  132708048829136: TensorSpec(shape=(), dtype=tf.resource, name=None)\n",
      "  132708048828752: TensorSpec(shape=(), dtype=tf.resource, name=None)\n",
      "  132708048830288: TensorSpec(shape=(), dtype=tf.resource, name=None)\n",
      "  132708048829712: TensorSpec(shape=(), dtype=tf.resource, name=None)\n",
      "  132708048827792: TensorSpec(shape=(), dtype=tf.resource, name=None)\n",
      "  132708048829904: TensorSpec(shape=(), dtype=tf.resource, name=None)\n",
      "  132708048830096: TensorSpec(shape=(), dtype=tf.resource, name=None)\n",
      "  132708048829328: TensorSpec(shape=(), dtype=tf.resource, name=None)\n",
      "  132708048826832: TensorSpec(shape=(), dtype=tf.resource, name=None)\n",
      "  132708056989968: TensorSpec(shape=(), dtype=tf.resource, name=None)\n",
      "  132708056991120: TensorSpec(shape=(), dtype=tf.resource, name=None)\n",
      "  132708056990928: TensorSpec(shape=(), dtype=tf.resource, name=None)\n",
      "  132708056990544: TensorSpec(shape=(), dtype=tf.resource, name=None)\n",
      "  132708056991696: TensorSpec(shape=(), dtype=tf.resource, name=None)\n",
      "  132708056990160: TensorSpec(shape=(), dtype=tf.resource, name=None)\n",
      "  132708056991312: TensorSpec(shape=(), dtype=tf.resource, name=None)\n",
      "  132708056991504: TensorSpec(shape=(), dtype=tf.resource, name=None)\n",
      "  132708056989776: TensorSpec(shape=(), dtype=tf.resource, name=None)\n",
      "  132708056992656: TensorSpec(shape=(), dtype=tf.resource, name=None)\n",
      "  132708056992080: TensorSpec(shape=(), dtype=tf.resource, name=None)\n",
      "  132708056992272: TensorSpec(shape=(), dtype=tf.resource, name=None)\n",
      "  132708056992464: TensorSpec(shape=(), dtype=tf.resource, name=None)\n",
      "  132708056990352: TensorSpec(shape=(), dtype=tf.resource, name=None)\n",
      "  132708056993616: TensorSpec(shape=(), dtype=tf.resource, name=None)\n",
      "  132708056993040: TensorSpec(shape=(), dtype=tf.resource, name=None)\n",
      "  132708056993232: TensorSpec(shape=(), dtype=tf.resource, name=None)\n",
      "  132708056993424: TensorSpec(shape=(), dtype=tf.resource, name=None)\n",
      "  132708056990736: TensorSpec(shape=(), dtype=tf.resource, name=None)\n",
      "  132708056994576: TensorSpec(shape=(), dtype=tf.resource, name=None)\n",
      "  132708056994000: TensorSpec(shape=(), dtype=tf.resource, name=None)\n",
      "  132708056994192: TensorSpec(shape=(), dtype=tf.resource, name=None)\n",
      "  132708056994384: TensorSpec(shape=(), dtype=tf.resource, name=None)\n",
      "  132708056991888: TensorSpec(shape=(), dtype=tf.resource, name=None)\n",
      "  132708056995536: TensorSpec(shape=(), dtype=tf.resource, name=None)\n",
      "  132708056994960: TensorSpec(shape=(), dtype=tf.resource, name=None)\n",
      "  132708056995152: TensorSpec(shape=(), dtype=tf.resource, name=None)\n",
      "  132708056995344: TensorSpec(shape=(), dtype=tf.resource, name=None)\n",
      "  132708056992848: TensorSpec(shape=(), dtype=tf.resource, name=None)\n",
      "  132708056996496: TensorSpec(shape=(), dtype=tf.resource, name=None)\n",
      "  132708056995920: TensorSpec(shape=(), dtype=tf.resource, name=None)\n",
      "  132708056996112: TensorSpec(shape=(), dtype=tf.resource, name=None)\n",
      "  132708056996304: TensorSpec(shape=(), dtype=tf.resource, name=None)\n",
      "  132708056993808: TensorSpec(shape=(), dtype=tf.resource, name=None)\n",
      "  132708056997456: TensorSpec(shape=(), dtype=tf.resource, name=None)\n",
      "  132708056996880: TensorSpec(shape=(), dtype=tf.resource, name=None)\n",
      "  132708056997072: TensorSpec(shape=(), dtype=tf.resource, name=None)\n",
      "  132708056997264: TensorSpec(shape=(), dtype=tf.resource, name=None)\n",
      "  132708056994768: TensorSpec(shape=(), dtype=tf.resource, name=None)\n",
      "  132708056998416: TensorSpec(shape=(), dtype=tf.resource, name=None)\n",
      "  132708056997840: TensorSpec(shape=(), dtype=tf.resource, name=None)\n",
      "  132708056998032: TensorSpec(shape=(), dtype=tf.resource, name=None)\n",
      "  132708056998224: TensorSpec(shape=(), dtype=tf.resource, name=None)\n",
      "  132708056995728: TensorSpec(shape=(), dtype=tf.resource, name=None)\n",
      "  132708056999376: TensorSpec(shape=(), dtype=tf.resource, name=None)\n",
      "  132708056998800: TensorSpec(shape=(), dtype=tf.resource, name=None)\n",
      "  132708056998992: TensorSpec(shape=(), dtype=tf.resource, name=None)\n",
      "  132708056999184: TensorSpec(shape=(), dtype=tf.resource, name=None)\n",
      "  132708056996688: TensorSpec(shape=(), dtype=tf.resource, name=None)\n",
      "  132708057000336: TensorSpec(shape=(), dtype=tf.resource, name=None)\n",
      "  132708056999760: TensorSpec(shape=(), dtype=tf.resource, name=None)\n",
      "  132708056999952: TensorSpec(shape=(), dtype=tf.resource, name=None)\n",
      "  132708057000144: TensorSpec(shape=(), dtype=tf.resource, name=None)\n",
      "  132708056997648: TensorSpec(shape=(), dtype=tf.resource, name=None)\n",
      "  132708057001296: TensorSpec(shape=(), dtype=tf.resource, name=None)\n",
      "  132708057000720: TensorSpec(shape=(), dtype=tf.resource, name=None)\n",
      "  132708057000912: TensorSpec(shape=(), dtype=tf.resource, name=None)\n",
      "  132708057001104: TensorSpec(shape=(), dtype=tf.resource, name=None)\n",
      "  132708056998608: TensorSpec(shape=(), dtype=tf.resource, name=None)\n",
      "  132708057002256: TensorSpec(shape=(), dtype=tf.resource, name=None)\n",
      "  132708057001680: TensorSpec(shape=(), dtype=tf.resource, name=None)\n",
      "  132708057001872: TensorSpec(shape=(), dtype=tf.resource, name=None)\n",
      "  132708057002064: TensorSpec(shape=(), dtype=tf.resource, name=None)\n",
      "  132708056999568: TensorSpec(shape=(), dtype=tf.resource, name=None)\n",
      "  132708057003216: TensorSpec(shape=(), dtype=tf.resource, name=None)\n",
      "  132708057002640: TensorSpec(shape=(), dtype=tf.resource, name=None)\n",
      "  132708057002832: TensorSpec(shape=(), dtype=tf.resource, name=None)\n",
      "  132708057003024: TensorSpec(shape=(), dtype=tf.resource, name=None)\n",
      "  132708057000528: TensorSpec(shape=(), dtype=tf.resource, name=None)\n",
      "  132708057004176: TensorSpec(shape=(), dtype=tf.resource, name=None)\n",
      "  132708057003600: TensorSpec(shape=(), dtype=tf.resource, name=None)\n",
      "  132708057003792: TensorSpec(shape=(), dtype=tf.resource, name=None)\n",
      "  132708057003984: TensorSpec(shape=(), dtype=tf.resource, name=None)\n",
      "  132708057001488: TensorSpec(shape=(), dtype=tf.resource, name=None)\n",
      "  132708057005136: TensorSpec(shape=(), dtype=tf.resource, name=None)\n",
      "  132708057004560: TensorSpec(shape=(), dtype=tf.resource, name=None)\n",
      "  132708057004752: TensorSpec(shape=(), dtype=tf.resource, name=None)\n",
      "  132708057004368: TensorSpec(shape=(), dtype=tf.resource, name=None)\n",
      "  132708057005904: TensorSpec(shape=(), dtype=tf.resource, name=None)\n",
      "  132708057005328: TensorSpec(shape=(), dtype=tf.resource, name=None)\n",
      "  132708057003408: TensorSpec(shape=(), dtype=tf.resource, name=None)\n",
      "  132708057005520: TensorSpec(shape=(), dtype=tf.resource, name=None)\n",
      "  132708057005712: TensorSpec(shape=(), dtype=tf.resource, name=None)\n",
      "  132708057004944: TensorSpec(shape=(), dtype=tf.resource, name=None)\n",
      "  132708057002448: TensorSpec(shape=(), dtype=tf.resource, name=None)\n",
      "  132708057858128: TensorSpec(shape=(), dtype=tf.resource, name=None)\n",
      "  132708057858704: TensorSpec(shape=(), dtype=tf.resource, name=None)\n",
      "  132708057858896: TensorSpec(shape=(), dtype=tf.resource, name=None)\n",
      "  132708057858512: TensorSpec(shape=(), dtype=tf.resource, name=None)\n",
      "  132708057860048: TensorSpec(shape=(), dtype=tf.resource, name=None)\n",
      "  132708057859472: TensorSpec(shape=(), dtype=tf.resource, name=None)\n",
      "  132708057859664: TensorSpec(shape=(), dtype=tf.resource, name=None)\n",
      "  132708057859856: TensorSpec(shape=(), dtype=tf.resource, name=None)\n",
      "  132708057859088: TensorSpec(shape=(), dtype=tf.resource, name=None)\n",
      "  132708057861008: TensorSpec(shape=(), dtype=tf.resource, name=None)\n",
      "  132708057860432: TensorSpec(shape=(), dtype=tf.resource, name=None)\n",
      "  132708057860624: TensorSpec(shape=(), dtype=tf.resource, name=None)\n",
      "  132708057860816: TensorSpec(shape=(), dtype=tf.resource, name=None)\n",
      "  132708057858320: TensorSpec(shape=(), dtype=tf.resource, name=None)\n",
      "  132708057861968: TensorSpec(shape=(), dtype=tf.resource, name=None)\n",
      "  132708057861392: TensorSpec(shape=(), dtype=tf.resource, name=None)\n",
      "  132708057861584: TensorSpec(shape=(), dtype=tf.resource, name=None)\n",
      "  132708057861776: TensorSpec(shape=(), dtype=tf.resource, name=None)\n",
      "  132708057859280: TensorSpec(shape=(), dtype=tf.resource, name=None)\n",
      "  132708057862928: TensorSpec(shape=(), dtype=tf.resource, name=None)\n",
      "  132708057862352: TensorSpec(shape=(), dtype=tf.resource, name=None)\n",
      "  132708057862544: TensorSpec(shape=(), dtype=tf.resource, name=None)\n",
      "  132708057862736: TensorSpec(shape=(), dtype=tf.resource, name=None)\n",
      "  132708057860240: TensorSpec(shape=(), dtype=tf.resource, name=None)\n",
      "  132708057863888: TensorSpec(shape=(), dtype=tf.resource, name=None)\n",
      "  132708057863312: TensorSpec(shape=(), dtype=tf.resource, name=None)\n",
      "  132708057863504: TensorSpec(shape=(), dtype=tf.resource, name=None)\n",
      "  132708057863696: TensorSpec(shape=(), dtype=tf.resource, name=None)\n",
      "  132708057861200: TensorSpec(shape=(), dtype=tf.resource, name=None)\n",
      "  132708057864848: TensorSpec(shape=(), dtype=tf.resource, name=None)\n",
      "  132708057864272: TensorSpec(shape=(), dtype=tf.resource, name=None)\n",
      "  132708057864464: TensorSpec(shape=(), dtype=tf.resource, name=None)\n",
      "  132708057864656: TensorSpec(shape=(), dtype=tf.resource, name=None)\n",
      "  132708057862160: TensorSpec(shape=(), dtype=tf.resource, name=None)\n",
      "  132708057865808: TensorSpec(shape=(), dtype=tf.resource, name=None)\n",
      "  132708057865232: TensorSpec(shape=(), dtype=tf.resource, name=None)\n",
      "  132708057865424: TensorSpec(shape=(), dtype=tf.resource, name=None)\n",
      "  132708057865616: TensorSpec(shape=(), dtype=tf.resource, name=None)\n",
      "  132708057863120: TensorSpec(shape=(), dtype=tf.resource, name=None)\n",
      "  132708057866768: TensorSpec(shape=(), dtype=tf.resource, name=None)\n",
      "  132708057866192: TensorSpec(shape=(), dtype=tf.resource, name=None)\n",
      "  132708057866384: TensorSpec(shape=(), dtype=tf.resource, name=None)\n",
      "  132708057866576: TensorSpec(shape=(), dtype=tf.resource, name=None)\n",
      "  132708057864080: TensorSpec(shape=(), dtype=tf.resource, name=None)\n",
      "  132708057867728: TensorSpec(shape=(), dtype=tf.resource, name=None)\n",
      "  132708057867152: TensorSpec(shape=(), dtype=tf.resource, name=None)\n",
      "  132708057867344: TensorSpec(shape=(), dtype=tf.resource, name=None)\n",
      "  132708057867536: TensorSpec(shape=(), dtype=tf.resource, name=None)\n",
      "  132708057865040: TensorSpec(shape=(), dtype=tf.resource, name=None)\n",
      "  132708057868688: TensorSpec(shape=(), dtype=tf.resource, name=None)\n",
      "  132708093330640: TensorSpec(shape=(), dtype=tf.resource, name=None)\n",
      "  132708091238096: TensorSpec(shape=(), dtype=tf.resource, name=None)\n"
     ]
    }
   ],
   "source": [
    "converter = tf.lite.TFLiteConverter.from_keras_model(model)\n",
    "tflite_model = converter.convert()\n",
    "\n",
    "tflite_model_file = '/content/drive/MyDrive/PetVision-TFLite/pet_vision_model/pet_vision_model.tflite'\n",
    "with open(tflite_model_file, \"wb\") as f:\n",
    "    f.write(tflite_model)"
   ]
  },
  {
   "cell_type": "markdown",
   "metadata": {
    "id": "V5ImcK3QCL7p"
   },
   "source": [
    "# Load TFLite interpreter and allocate tensors"
   ]
  },
  {
   "cell_type": "code",
   "execution_count": 9,
   "metadata": {},
   "outputs": [
    {
     "name": "stderr",
     "output_type": "stream",
     "text": [
      "/usr/local/lib/python3.11/dist-packages/tensorflow/lite/python/interpreter.py:457: UserWarning:     Warning: tf.lite.Interpreter is deprecated and is scheduled for deletion in\n",
      "    TF 2.20. Please use the LiteRT interpreter from the ai_edge_litert package.\n",
      "    See the [migration guide](https://ai.google.dev/edge/litert/migration)\n",
      "    for details.\n",
      "    \n",
      "  warnings.warn(_INTERPRETER_DELETION_WARNING)\n"
     ]
    }
   ],
   "source": [
    "interpreter = tf.lite.Interpreter(model_path = tflite_model_file)\n",
    "interpreter.allocate_tensors()\n",
    "\n",
    "input_index = interpreter.get_input_details()[0][\"index\"]\n",
    "output_index = interpreter.get_output_details()[0][\"index\"]\n",
    "\n",
    "predictions = []"
   ]
  },
  {
   "cell_type": "markdown",
   "metadata": {
    "id": "ZfR7wLanCQ2v"
   },
   "source": [
    "# Run inference on first 100 test images using TFLite interpreter"
   ]
  },
  {
   "cell_type": "code",
   "execution_count": 10,
   "metadata": {},
   "outputs": [],
   "source": [
    "test_labels, test_imgs = [], []\n",
    "for img, label in test_batches.take(100):\n",
    "  interpreter.set_tensor(input_index, img)\n",
    "  interpreter.invoke()\n",
    "  predictions.append(interpreter.get_tensor(output_index))\n",
    "  test_labels.append(label.numpy()[0])\n",
    "  test_imgs.append(img)"
   ]
  },
  {
   "cell_type": "markdown",
   "metadata": {
    "id": "pd_Zq1_kCUXR"
   },
   "source": [
    "# Calculate number of correct predictions out of 100"
   ]
  },
  {
   "cell_type": "code",
   "execution_count": 11,
   "metadata": {},
   "outputs": [
    {
     "name": "stdout",
     "output_type": "stream",
     "text": [
      "Out of 100 predictions I got 99 correct\n"
     ]
    }
   ],
   "source": [
    "score = 0\n",
    "for item in range(0,99):\n",
    "  prediction=np.argmax(predictions[item])\n",
    "  label = test_labels[item]\n",
    "  if prediction==label:\n",
    "    score=score+1\n",
    "print(\"Out of 100 predictions I got \" + str(score) + \" correct\")"
   ]
  },
  {
   "cell_type": "markdown",
   "metadata": {
    "id": "KVBKuHwkCYrl"
   },
   "source": [
    "# Define function to plot a single image with prediction info"
   ]
  },
  {
   "cell_type": "code",
   "execution_count": 12,
   "metadata": {},
   "outputs": [],
   "source": [
    "def plot_image(i, predictions, true_labels, images):\n",
    "    predictions_array = np.array(predictions[i][0])\n",
    "    true_label = true_labels[i]\n",
    "    img = images[i][0]\n",
    "\n",
    "    plt.grid(False)\n",
    "    plt.xticks([])\n",
    "    plt.yticks([])\n",
    "\n",
    "    plt.imshow(img)\n",
    "\n",
    "    predicted_label = np.argmax(predictions_array)\n",
    "    if predicted_label == true_label:\n",
    "        color = 'blue'\n",
    "    else:\n",
    "        color = 'red'\n",
    "\n",
    "    plt.xlabel(\n",
    "        \"Predicted: {} ({:2.0f}%)\\nTrue: {}\".format(\n",
    "            predicted_label,\n",
    "            100 * np.max(predictions_array),\n",
    "            true_label\n",
    "        ),\n",
    "        color=color\n",
    "    )\n"
   ]
  },
  {
   "cell_type": "markdown",
   "metadata": {
    "id": "7UfyfSgDCdHj"
   },
   "source": [
    "# Plot test images in a grid, 3 images per row, using existing plot_image function"
   ]
  },
  {
   "cell_type": "code",
   "execution_count": 13,
   "metadata": {},
   "outputs": [
    {
     "data": {
      "text/plain": [
       "Output hidden; open in https://colab.research.google.com to view."
      ]
     },
     "metadata": {},
     "output_type": "display_data"
    }
   ],
   "source": [
    "num_images = 12\n",
    "images_per_row = 3\n",
    "rows = num_images // images_per_row + int(num_images % images_per_row > 0)\n",
    "\n",
    "plt.figure(figsize=(5 * images_per_row, 4 * rows))\n",
    "\n",
    "for i in range(num_images):\n",
    "    plt.subplot(rows, images_per_row, i + 1)\n",
    "    plot_image(i, predictions, test_labels, test_imgs)\n",
    "\n",
    "plt.tight_layout()\n",
    "plt.show()"
   ]
  },
  {
   "cell_type": "markdown",
   "metadata": {
    "id": "G8Q8T9MrrnX8"
   },
   "source": [
    "## Optimize the model"
   ]
  },
  {
   "cell_type": "code",
   "execution_count": 14,
   "metadata": {},
   "outputs": [],
   "source": [
    "## dynamic range quantization\n",
    "\n",
    "converter  = tf.lite.TFLiteConverter.from_saved_model(PetVision_model)\n",
    "converter.optimizations = [tf.lite.Optimize.DEFAULT]\n",
    "\n",
    "tflite_model_dynamic = converter.convert()\n",
    "tflite_model_dynamic_file = '/content/drive/MyDrive/PetVision-TFLite/pet_vision_model/dynamic_optimized_model.tflite'\n",
    "\n",
    "with open(tflite_model_dynamic_file, 'wb') as file:\n",
    "  file.write(tflite_model_dynamic)"
   ]
  },
  {
   "cell_type": "code",
   "execution_count": 15,
   "metadata": {},
   "outputs": [
    {
     "name": "stdout",
     "output_type": "stream",
     "text": [
      "Saved artifact at '/tmp/tmpr1um8xab'. The following endpoints are available:\n",
      "\n",
      "* Endpoint 'serve'\n",
      "  args_0 (POSITIONAL_ONLY): TensorSpec(shape=(None, 224, 224, 3), dtype=tf.float32, name='keras_tensor_312')\n",
      "Output Type:\n",
      "  TensorSpec(shape=(None, 2), dtype=tf.float32, name=None)\n",
      "Captures:\n",
      "  132708096319248: TensorSpec(shape=(), dtype=tf.resource, name=None)\n",
      "  132708055891408: TensorSpec(shape=(), dtype=tf.resource, name=None)\n",
      "  132708096320016: TensorSpec(shape=(), dtype=tf.resource, name=None)\n",
      "  132708054718544: TensorSpec(shape=(), dtype=tf.resource, name=None)\n",
      "  132708096319632: TensorSpec(shape=(), dtype=tf.resource, name=None)\n",
      "  132708096319824: TensorSpec(shape=(), dtype=tf.resource, name=None)\n",
      "  132708055891600: TensorSpec(shape=(), dtype=tf.resource, name=None)\n",
      "  132708047613264: TensorSpec(shape=(), dtype=tf.resource, name=None)\n",
      "  132708096319440: TensorSpec(shape=(), dtype=tf.resource, name=None)\n",
      "  132708054717584: TensorSpec(shape=(), dtype=tf.resource, name=None)\n",
      "  132708047613456: TensorSpec(shape=(), dtype=tf.resource, name=None)\n",
      "  132708047612880: TensorSpec(shape=(), dtype=tf.resource, name=None)\n",
      "  132708047612688: TensorSpec(shape=(), dtype=tf.resource, name=None)\n",
      "  132708047609424: TensorSpec(shape=(), dtype=tf.resource, name=None)\n",
      "  132708047614224: TensorSpec(shape=(), dtype=tf.resource, name=None)\n",
      "  132708047611344: TensorSpec(shape=(), dtype=tf.resource, name=None)\n",
      "  132708047613072: TensorSpec(shape=(), dtype=tf.resource, name=None)\n",
      "  132708047614032: TensorSpec(shape=(), dtype=tf.resource, name=None)\n",
      "  132708047613840: TensorSpec(shape=(), dtype=tf.resource, name=None)\n",
      "  132708047615184: TensorSpec(shape=(), dtype=tf.resource, name=None)\n",
      "  132708047614608: TensorSpec(shape=(), dtype=tf.resource, name=None)\n",
      "  132708047614800: TensorSpec(shape=(), dtype=tf.resource, name=None)\n",
      "  132708047614992: TensorSpec(shape=(), dtype=tf.resource, name=None)\n",
      "  132708047613648: TensorSpec(shape=(), dtype=tf.resource, name=None)\n",
      "  132708047616144: TensorSpec(shape=(), dtype=tf.resource, name=None)\n",
      "  132708047615568: TensorSpec(shape=(), dtype=tf.resource, name=None)\n",
      "  132708047615760: TensorSpec(shape=(), dtype=tf.resource, name=None)\n",
      "  132708047615952: TensorSpec(shape=(), dtype=tf.resource, name=None)\n",
      "  132708047612304: TensorSpec(shape=(), dtype=tf.resource, name=None)\n",
      "  132708047617104: TensorSpec(shape=(), dtype=tf.resource, name=None)\n",
      "  132708047616528: TensorSpec(shape=(), dtype=tf.resource, name=None)\n",
      "  132708047616720: TensorSpec(shape=(), dtype=tf.resource, name=None)\n",
      "  132708047616336: TensorSpec(shape=(), dtype=tf.resource, name=None)\n",
      "  132708047617872: TensorSpec(shape=(), dtype=tf.resource, name=None)\n",
      "  132708047617296: TensorSpec(shape=(), dtype=tf.resource, name=None)\n",
      "  132708047615376: TensorSpec(shape=(), dtype=tf.resource, name=None)\n",
      "  132708047617488: TensorSpec(shape=(), dtype=tf.resource, name=None)\n",
      "  132708047617680: TensorSpec(shape=(), dtype=tf.resource, name=None)\n",
      "  132708047616912: TensorSpec(shape=(), dtype=tf.resource, name=None)\n",
      "  132708047614416: TensorSpec(shape=(), dtype=tf.resource, name=None)\n",
      "  132708048814352: TensorSpec(shape=(), dtype=tf.resource, name=None)\n",
      "  132708048815504: TensorSpec(shape=(), dtype=tf.resource, name=None)\n",
      "  132708048815312: TensorSpec(shape=(), dtype=tf.resource, name=None)\n",
      "  132708048814928: TensorSpec(shape=(), dtype=tf.resource, name=None)\n",
      "  132708048816080: TensorSpec(shape=(), dtype=tf.resource, name=None)\n",
      "  132708048814544: TensorSpec(shape=(), dtype=tf.resource, name=None)\n",
      "  132708048815696: TensorSpec(shape=(), dtype=tf.resource, name=None)\n",
      "  132708048815888: TensorSpec(shape=(), dtype=tf.resource, name=None)\n",
      "  132708048814160: TensorSpec(shape=(), dtype=tf.resource, name=None)\n",
      "  132708048817040: TensorSpec(shape=(), dtype=tf.resource, name=None)\n",
      "  132708048816464: TensorSpec(shape=(), dtype=tf.resource, name=None)\n",
      "  132708048816656: TensorSpec(shape=(), dtype=tf.resource, name=None)\n",
      "  132708048816848: TensorSpec(shape=(), dtype=tf.resource, name=None)\n",
      "  132708048814736: TensorSpec(shape=(), dtype=tf.resource, name=None)\n",
      "  132708048818000: TensorSpec(shape=(), dtype=tf.resource, name=None)\n",
      "  132708048817424: TensorSpec(shape=(), dtype=tf.resource, name=None)\n",
      "  132708048817616: TensorSpec(shape=(), dtype=tf.resource, name=None)\n",
      "  132708048817808: TensorSpec(shape=(), dtype=tf.resource, name=None)\n",
      "  132708048815120: TensorSpec(shape=(), dtype=tf.resource, name=None)\n",
      "  132708048818960: TensorSpec(shape=(), dtype=tf.resource, name=None)\n",
      "  132708048818384: TensorSpec(shape=(), dtype=tf.resource, name=None)\n",
      "  132708048818576: TensorSpec(shape=(), dtype=tf.resource, name=None)\n",
      "  132708048818768: TensorSpec(shape=(), dtype=tf.resource, name=None)\n",
      "  132708048816272: TensorSpec(shape=(), dtype=tf.resource, name=None)\n",
      "  132708048819920: TensorSpec(shape=(), dtype=tf.resource, name=None)\n",
      "  132708048819344: TensorSpec(shape=(), dtype=tf.resource, name=None)\n",
      "  132708048819536: TensorSpec(shape=(), dtype=tf.resource, name=None)\n",
      "  132708048819728: TensorSpec(shape=(), dtype=tf.resource, name=None)\n",
      "  132708048817232: TensorSpec(shape=(), dtype=tf.resource, name=None)\n",
      "  132708048820880: TensorSpec(shape=(), dtype=tf.resource, name=None)\n",
      "  132708048820304: TensorSpec(shape=(), dtype=tf.resource, name=None)\n",
      "  132708048820496: TensorSpec(shape=(), dtype=tf.resource, name=None)\n",
      "  132708048820688: TensorSpec(shape=(), dtype=tf.resource, name=None)\n",
      "  132708048818192: TensorSpec(shape=(), dtype=tf.resource, name=None)\n",
      "  132708048821840: TensorSpec(shape=(), dtype=tf.resource, name=None)\n",
      "  132708048821264: TensorSpec(shape=(), dtype=tf.resource, name=None)\n",
      "  132708048821456: TensorSpec(shape=(), dtype=tf.resource, name=None)\n",
      "  132708048821648: TensorSpec(shape=(), dtype=tf.resource, name=None)\n",
      "  132708048819152: TensorSpec(shape=(), dtype=tf.resource, name=None)\n",
      "  132708048822800: TensorSpec(shape=(), dtype=tf.resource, name=None)\n",
      "  132708048822224: TensorSpec(shape=(), dtype=tf.resource, name=None)\n",
      "  132708048822416: TensorSpec(shape=(), dtype=tf.resource, name=None)\n",
      "  132708048822608: TensorSpec(shape=(), dtype=tf.resource, name=None)\n",
      "  132708048820112: TensorSpec(shape=(), dtype=tf.resource, name=None)\n",
      "  132708048823760: TensorSpec(shape=(), dtype=tf.resource, name=None)\n",
      "  132708048823184: TensorSpec(shape=(), dtype=tf.resource, name=None)\n",
      "  132708048823376: TensorSpec(shape=(), dtype=tf.resource, name=None)\n",
      "  132708048823568: TensorSpec(shape=(), dtype=tf.resource, name=None)\n",
      "  132708048821072: TensorSpec(shape=(), dtype=tf.resource, name=None)\n",
      "  132708048824720: TensorSpec(shape=(), dtype=tf.resource, name=None)\n",
      "  132708048824144: TensorSpec(shape=(), dtype=tf.resource, name=None)\n",
      "  132708048824336: TensorSpec(shape=(), dtype=tf.resource, name=None)\n",
      "  132708048824528: TensorSpec(shape=(), dtype=tf.resource, name=None)\n",
      "  132708048822032: TensorSpec(shape=(), dtype=tf.resource, name=None)\n",
      "  132708048825680: TensorSpec(shape=(), dtype=tf.resource, name=None)\n",
      "  132708048825104: TensorSpec(shape=(), dtype=tf.resource, name=None)\n",
      "  132708048825296: TensorSpec(shape=(), dtype=tf.resource, name=None)\n",
      "  132708048825488: TensorSpec(shape=(), dtype=tf.resource, name=None)\n",
      "  132708048822992: TensorSpec(shape=(), dtype=tf.resource, name=None)\n",
      "  132708048826640: TensorSpec(shape=(), dtype=tf.resource, name=None)\n",
      "  132708048826064: TensorSpec(shape=(), dtype=tf.resource, name=None)\n",
      "  132708048826256: TensorSpec(shape=(), dtype=tf.resource, name=None)\n",
      "  132708048826448: TensorSpec(shape=(), dtype=tf.resource, name=None)\n",
      "  132708048823952: TensorSpec(shape=(), dtype=tf.resource, name=None)\n",
      "  132708048827600: TensorSpec(shape=(), dtype=tf.resource, name=None)\n",
      "  132708048827024: TensorSpec(shape=(), dtype=tf.resource, name=None)\n",
      "  132708048827216: TensorSpec(shape=(), dtype=tf.resource, name=None)\n",
      "  132708048827408: TensorSpec(shape=(), dtype=tf.resource, name=None)\n",
      "  132708048824912: TensorSpec(shape=(), dtype=tf.resource, name=None)\n",
      "  132708048828560: TensorSpec(shape=(), dtype=tf.resource, name=None)\n",
      "  132708048827984: TensorSpec(shape=(), dtype=tf.resource, name=None)\n",
      "  132708048828176: TensorSpec(shape=(), dtype=tf.resource, name=None)\n",
      "  132708048828368: TensorSpec(shape=(), dtype=tf.resource, name=None)\n",
      "  132708048825872: TensorSpec(shape=(), dtype=tf.resource, name=None)\n",
      "  132708048829520: TensorSpec(shape=(), dtype=tf.resource, name=None)\n",
      "  132708048828944: TensorSpec(shape=(), dtype=tf.resource, name=None)\n",
      "  132708048829136: TensorSpec(shape=(), dtype=tf.resource, name=None)\n",
      "  132708048828752: TensorSpec(shape=(), dtype=tf.resource, name=None)\n",
      "  132708048830288: TensorSpec(shape=(), dtype=tf.resource, name=None)\n",
      "  132708048829712: TensorSpec(shape=(), dtype=tf.resource, name=None)\n",
      "  132708048827792: TensorSpec(shape=(), dtype=tf.resource, name=None)\n",
      "  132708048829904: TensorSpec(shape=(), dtype=tf.resource, name=None)\n",
      "  132708048830096: TensorSpec(shape=(), dtype=tf.resource, name=None)\n",
      "  132708048829328: TensorSpec(shape=(), dtype=tf.resource, name=None)\n",
      "  132708048826832: TensorSpec(shape=(), dtype=tf.resource, name=None)\n",
      "  132708056989968: TensorSpec(shape=(), dtype=tf.resource, name=None)\n",
      "  132708056991120: TensorSpec(shape=(), dtype=tf.resource, name=None)\n",
      "  132708056990928: TensorSpec(shape=(), dtype=tf.resource, name=None)\n",
      "  132708056990544: TensorSpec(shape=(), dtype=tf.resource, name=None)\n",
      "  132708056991696: TensorSpec(shape=(), dtype=tf.resource, name=None)\n",
      "  132708056990160: TensorSpec(shape=(), dtype=tf.resource, name=None)\n",
      "  132708056991312: TensorSpec(shape=(), dtype=tf.resource, name=None)\n",
      "  132708056991504: TensorSpec(shape=(), dtype=tf.resource, name=None)\n",
      "  132708056989776: TensorSpec(shape=(), dtype=tf.resource, name=None)\n",
      "  132708056992656: TensorSpec(shape=(), dtype=tf.resource, name=None)\n",
      "  132708056992080: TensorSpec(shape=(), dtype=tf.resource, name=None)\n",
      "  132708056992272: TensorSpec(shape=(), dtype=tf.resource, name=None)\n",
      "  132708056992464: TensorSpec(shape=(), dtype=tf.resource, name=None)\n",
      "  132708056990352: TensorSpec(shape=(), dtype=tf.resource, name=None)\n",
      "  132708056993616: TensorSpec(shape=(), dtype=tf.resource, name=None)\n",
      "  132708056993040: TensorSpec(shape=(), dtype=tf.resource, name=None)\n",
      "  132708056993232: TensorSpec(shape=(), dtype=tf.resource, name=None)\n",
      "  132708056993424: TensorSpec(shape=(), dtype=tf.resource, name=None)\n",
      "  132708056990736: TensorSpec(shape=(), dtype=tf.resource, name=None)\n",
      "  132708056994576: TensorSpec(shape=(), dtype=tf.resource, name=None)\n",
      "  132708056994000: TensorSpec(shape=(), dtype=tf.resource, name=None)\n",
      "  132708056994192: TensorSpec(shape=(), dtype=tf.resource, name=None)\n",
      "  132708056994384: TensorSpec(shape=(), dtype=tf.resource, name=None)\n",
      "  132708056991888: TensorSpec(shape=(), dtype=tf.resource, name=None)\n",
      "  132708056995536: TensorSpec(shape=(), dtype=tf.resource, name=None)\n",
      "  132708056994960: TensorSpec(shape=(), dtype=tf.resource, name=None)\n",
      "  132708056995152: TensorSpec(shape=(), dtype=tf.resource, name=None)\n",
      "  132708056995344: TensorSpec(shape=(), dtype=tf.resource, name=None)\n",
      "  132708056992848: TensorSpec(shape=(), dtype=tf.resource, name=None)\n",
      "  132708056996496: TensorSpec(shape=(), dtype=tf.resource, name=None)\n",
      "  132708056995920: TensorSpec(shape=(), dtype=tf.resource, name=None)\n",
      "  132708056996112: TensorSpec(shape=(), dtype=tf.resource, name=None)\n",
      "  132708056996304: TensorSpec(shape=(), dtype=tf.resource, name=None)\n",
      "  132708056993808: TensorSpec(shape=(), dtype=tf.resource, name=None)\n",
      "  132708056997456: TensorSpec(shape=(), dtype=tf.resource, name=None)\n",
      "  132708056996880: TensorSpec(shape=(), dtype=tf.resource, name=None)\n",
      "  132708056997072: TensorSpec(shape=(), dtype=tf.resource, name=None)\n",
      "  132708056997264: TensorSpec(shape=(), dtype=tf.resource, name=None)\n",
      "  132708056994768: TensorSpec(shape=(), dtype=tf.resource, name=None)\n",
      "  132708056998416: TensorSpec(shape=(), dtype=tf.resource, name=None)\n",
      "  132708056997840: TensorSpec(shape=(), dtype=tf.resource, name=None)\n",
      "  132708056998032: TensorSpec(shape=(), dtype=tf.resource, name=None)\n",
      "  132708056998224: TensorSpec(shape=(), dtype=tf.resource, name=None)\n",
      "  132708056995728: TensorSpec(shape=(), dtype=tf.resource, name=None)\n",
      "  132708056999376: TensorSpec(shape=(), dtype=tf.resource, name=None)\n",
      "  132708056998800: TensorSpec(shape=(), dtype=tf.resource, name=None)\n",
      "  132708056998992: TensorSpec(shape=(), dtype=tf.resource, name=None)\n",
      "  132708056999184: TensorSpec(shape=(), dtype=tf.resource, name=None)\n",
      "  132708056996688: TensorSpec(shape=(), dtype=tf.resource, name=None)\n",
      "  132708057000336: TensorSpec(shape=(), dtype=tf.resource, name=None)\n",
      "  132708056999760: TensorSpec(shape=(), dtype=tf.resource, name=None)\n",
      "  132708056999952: TensorSpec(shape=(), dtype=tf.resource, name=None)\n",
      "  132708057000144: TensorSpec(shape=(), dtype=tf.resource, name=None)\n",
      "  132708056997648: TensorSpec(shape=(), dtype=tf.resource, name=None)\n",
      "  132708057001296: TensorSpec(shape=(), dtype=tf.resource, name=None)\n",
      "  132708057000720: TensorSpec(shape=(), dtype=tf.resource, name=None)\n",
      "  132708057000912: TensorSpec(shape=(), dtype=tf.resource, name=None)\n",
      "  132708057001104: TensorSpec(shape=(), dtype=tf.resource, name=None)\n",
      "  132708056998608: TensorSpec(shape=(), dtype=tf.resource, name=None)\n",
      "  132708057002256: TensorSpec(shape=(), dtype=tf.resource, name=None)\n",
      "  132708057001680: TensorSpec(shape=(), dtype=tf.resource, name=None)\n",
      "  132708057001872: TensorSpec(shape=(), dtype=tf.resource, name=None)\n",
      "  132708057002064: TensorSpec(shape=(), dtype=tf.resource, name=None)\n",
      "  132708056999568: TensorSpec(shape=(), dtype=tf.resource, name=None)\n",
      "  132708057003216: TensorSpec(shape=(), dtype=tf.resource, name=None)\n",
      "  132708057002640: TensorSpec(shape=(), dtype=tf.resource, name=None)\n",
      "  132708057002832: TensorSpec(shape=(), dtype=tf.resource, name=None)\n",
      "  132708057003024: TensorSpec(shape=(), dtype=tf.resource, name=None)\n",
      "  132708057000528: TensorSpec(shape=(), dtype=tf.resource, name=None)\n",
      "  132708057004176: TensorSpec(shape=(), dtype=tf.resource, name=None)\n",
      "  132708057003600: TensorSpec(shape=(), dtype=tf.resource, name=None)\n",
      "  132708057003792: TensorSpec(shape=(), dtype=tf.resource, name=None)\n",
      "  132708057003984: TensorSpec(shape=(), dtype=tf.resource, name=None)\n",
      "  132708057001488: TensorSpec(shape=(), dtype=tf.resource, name=None)\n",
      "  132708057005136: TensorSpec(shape=(), dtype=tf.resource, name=None)\n",
      "  132708057004560: TensorSpec(shape=(), dtype=tf.resource, name=None)\n",
      "  132708057004752: TensorSpec(shape=(), dtype=tf.resource, name=None)\n",
      "  132708057004368: TensorSpec(shape=(), dtype=tf.resource, name=None)\n",
      "  132708057005904: TensorSpec(shape=(), dtype=tf.resource, name=None)\n",
      "  132708057005328: TensorSpec(shape=(), dtype=tf.resource, name=None)\n",
      "  132708057003408: TensorSpec(shape=(), dtype=tf.resource, name=None)\n",
      "  132708057005520: TensorSpec(shape=(), dtype=tf.resource, name=None)\n",
      "  132708057005712: TensorSpec(shape=(), dtype=tf.resource, name=None)\n",
      "  132708057004944: TensorSpec(shape=(), dtype=tf.resource, name=None)\n",
      "  132708057002448: TensorSpec(shape=(), dtype=tf.resource, name=None)\n",
      "  132708057858128: TensorSpec(shape=(), dtype=tf.resource, name=None)\n",
      "  132708057858704: TensorSpec(shape=(), dtype=tf.resource, name=None)\n",
      "  132708057858896: TensorSpec(shape=(), dtype=tf.resource, name=None)\n",
      "  132708057858512: TensorSpec(shape=(), dtype=tf.resource, name=None)\n",
      "  132708057860048: TensorSpec(shape=(), dtype=tf.resource, name=None)\n",
      "  132708057859472: TensorSpec(shape=(), dtype=tf.resource, name=None)\n",
      "  132708057859664: TensorSpec(shape=(), dtype=tf.resource, name=None)\n",
      "  132708057859856: TensorSpec(shape=(), dtype=tf.resource, name=None)\n",
      "  132708057859088: TensorSpec(shape=(), dtype=tf.resource, name=None)\n",
      "  132708057861008: TensorSpec(shape=(), dtype=tf.resource, name=None)\n",
      "  132708057860432: TensorSpec(shape=(), dtype=tf.resource, name=None)\n",
      "  132708057860624: TensorSpec(shape=(), dtype=tf.resource, name=None)\n",
      "  132708057860816: TensorSpec(shape=(), dtype=tf.resource, name=None)\n",
      "  132708057858320: TensorSpec(shape=(), dtype=tf.resource, name=None)\n",
      "  132708057861968: TensorSpec(shape=(), dtype=tf.resource, name=None)\n",
      "  132708057861392: TensorSpec(shape=(), dtype=tf.resource, name=None)\n",
      "  132708057861584: TensorSpec(shape=(), dtype=tf.resource, name=None)\n",
      "  132708057861776: TensorSpec(shape=(), dtype=tf.resource, name=None)\n",
      "  132708057859280: TensorSpec(shape=(), dtype=tf.resource, name=None)\n",
      "  132708057862928: TensorSpec(shape=(), dtype=tf.resource, name=None)\n",
      "  132708057862352: TensorSpec(shape=(), dtype=tf.resource, name=None)\n",
      "  132708057862544: TensorSpec(shape=(), dtype=tf.resource, name=None)\n",
      "  132708057862736: TensorSpec(shape=(), dtype=tf.resource, name=None)\n",
      "  132708057860240: TensorSpec(shape=(), dtype=tf.resource, name=None)\n",
      "  132708057863888: TensorSpec(shape=(), dtype=tf.resource, name=None)\n",
      "  132708057863312: TensorSpec(shape=(), dtype=tf.resource, name=None)\n",
      "  132708057863504: TensorSpec(shape=(), dtype=tf.resource, name=None)\n",
      "  132708057863696: TensorSpec(shape=(), dtype=tf.resource, name=None)\n",
      "  132708057861200: TensorSpec(shape=(), dtype=tf.resource, name=None)\n",
      "  132708057864848: TensorSpec(shape=(), dtype=tf.resource, name=None)\n",
      "  132708057864272: TensorSpec(shape=(), dtype=tf.resource, name=None)\n",
      "  132708057864464: TensorSpec(shape=(), dtype=tf.resource, name=None)\n",
      "  132708057864656: TensorSpec(shape=(), dtype=tf.resource, name=None)\n",
      "  132708057862160: TensorSpec(shape=(), dtype=tf.resource, name=None)\n",
      "  132708057865808: TensorSpec(shape=(), dtype=tf.resource, name=None)\n",
      "  132708057865232: TensorSpec(shape=(), dtype=tf.resource, name=None)\n",
      "  132708057865424: TensorSpec(shape=(), dtype=tf.resource, name=None)\n",
      "  132708057865616: TensorSpec(shape=(), dtype=tf.resource, name=None)\n",
      "  132708057863120: TensorSpec(shape=(), dtype=tf.resource, name=None)\n",
      "  132708057866768: TensorSpec(shape=(), dtype=tf.resource, name=None)\n",
      "  132708057866192: TensorSpec(shape=(), dtype=tf.resource, name=None)\n",
      "  132708057866384: TensorSpec(shape=(), dtype=tf.resource, name=None)\n",
      "  132708057866576: TensorSpec(shape=(), dtype=tf.resource, name=None)\n",
      "  132708057864080: TensorSpec(shape=(), dtype=tf.resource, name=None)\n",
      "  132708057867728: TensorSpec(shape=(), dtype=tf.resource, name=None)\n",
      "  132708057867152: TensorSpec(shape=(), dtype=tf.resource, name=None)\n",
      "  132708057867344: TensorSpec(shape=(), dtype=tf.resource, name=None)\n",
      "  132708057867536: TensorSpec(shape=(), dtype=tf.resource, name=None)\n",
      "  132708057865040: TensorSpec(shape=(), dtype=tf.resource, name=None)\n",
      "  132708057868688: TensorSpec(shape=(), dtype=tf.resource, name=None)\n",
      "  132708093330640: TensorSpec(shape=(), dtype=tf.resource, name=None)\n",
      "  132708091238096: TensorSpec(shape=(), dtype=tf.resource, name=None)\n"
     ]
    },
    {
     "name": "stderr",
     "output_type": "stream",
     "text": [
      "/usr/local/lib/python3.11/dist-packages/tensorflow/lite/python/convert.py:854: UserWarning: Statistics for quantized inputs were expected, but not specified; continuing anyway.\n",
      "  warnings.warn(\n"
     ]
    }
   ],
   "source": [
    "## integer quantization\n",
    "\n",
    "converter  = tf.lite.TFLiteConverter.from_keras_model(model)\n",
    "converter.optimizations = [tf.lite.Optimize.DEFAULT]\n",
    "\n",
    "def representative_data_gen():\n",
    "    for input_value, _ in test_batches.take(100):\n",
    "        yield [tf.cast(input_value, tf.float32)]\n",
    "\n",
    "converter.representative_dataset = representative_data_gen\n",
    "converter.target_spec.supported_ops = [tf.lite.OpsSet.TFLITE_BUILTINS_INT8]\n",
    "converter.inference_input_type = tf.int8\n",
    "converter.inference_output_type = tf.int8\n",
    "\n",
    "tflite_model_integer = converter.convert()\n",
    "tflite_model_integer_file = '/content/drive/MyDrive/PetVision-TFLite/pet_vision_model/integer_optimized_model.tflite'\n",
    "\n",
    "with open(tflite_model_integer_file, 'wb') as file:\n",
    "  file.write(tflite_model_integer)"
   ]
  },
  {
   "cell_type": "code",
   "execution_count": null,
   "metadata": {},
   "outputs": [],
   "source": [
    "from google.colab import drive\n",
    "drive.mount('/content/drive')"
   ]
  },
  {
   "cell_type": "code",
   "execution_count": 15,
   "metadata": {},
   "outputs": [],
   "source": []
  }
 ],
 "metadata": {
  "language_info": {
   "name": "python"
  }
 },
 "nbformat": 4,
 "nbformat_minor": 0
}
