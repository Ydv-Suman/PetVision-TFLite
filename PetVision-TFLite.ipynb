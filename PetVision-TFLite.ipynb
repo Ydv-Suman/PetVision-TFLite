{
 "cells": [
  {
   "cell_type": "markdown",
   "metadata": {
    "id": "LARVV6449s5F"
   },
   "source": [
    "## import dependencies"
   ]
  },
  {
   "cell_type": "code",
   "execution_count": null,
   "metadata": {},
   "outputs": [],
   "source": [
    "import numpy as np\n",
    "import matplotlib.pyplot as plt\n",
    "import pandas as pd\n",
    "\n",
    "import tensorflow as tf\n",
    "import tensorflow_hub as hub\n",
    "import tensorflow_datasets as tfds"
   ]
  },
  {
   "cell_type": "markdown",
   "metadata": {
    "id": "yjQgrR0BUZAm"
   },
   "source": [
    "# Load Cats vs Dogs dataset with train, validation, test splits"
   ]
  },
  {
   "cell_type": "code",
   "execution_count": null,
   "metadata": {},
   "outputs": [
    {
     "name": "stderr",
     "output_type": "stream",
     "text": [
      "WARNING:absl:Variant folder /root/tensorflow_datasets/cats_vs_dogs/4.0.1 has no dataset_info.json\n"
     ]
    },
    {
     "name": "stdout",
     "output_type": "stream",
     "text": [
      "Downloading and preparing dataset Unknown size (download: Unknown size, generated: Unknown size, total: Unknown size) to /root/tensorflow_datasets/cats_vs_dogs/4.0.1...\n"
     ]
    },
    {
     "data": {
      "application/vnd.jupyter.widget-view+json": {
       "model_id": "ea38b58a296a4913a8eb524d631e27e5",
       "version_major": 2,
       "version_minor": 0
      },
      "text/plain": [
       "Dl Completed...: 0 url [00:00, ? url/s]"
      ]
     },
     "metadata": {},
     "output_type": "display_data"
    },
    {
     "data": {
      "application/vnd.jupyter.widget-view+json": {
       "model_id": "0b63d3d2a4fa4fb7928198e48155b3e5",
       "version_major": 2,
       "version_minor": 0
      },
      "text/plain": [
       "Dl Size...: 0 MiB [00:00, ? MiB/s]"
      ]
     },
     "metadata": {},
     "output_type": "display_data"
    },
    {
     "data": {
      "application/vnd.jupyter.widget-view+json": {
       "model_id": "70c83182f468462d8fd3abb2d2e00424",
       "version_major": 2,
       "version_minor": 0
      },
      "text/plain": [
       "Generating splits...:   0%|          | 0/1 [00:00<?, ? splits/s]"
      ]
     },
     "metadata": {},
     "output_type": "display_data"
    },
    {
     "data": {
      "application/vnd.jupyter.widget-view+json": {
       "model_id": "bd5b123c3a2640cbafb826d0b9c0b7ec",
       "version_major": 2,
       "version_minor": 0
      },
      "text/plain": [
       "Generating train examples...: 0 examples [00:00, ? examples/s]"
      ]
     },
     "metadata": {},
     "output_type": "display_data"
    },
    {
     "name": "stderr",
     "output_type": "stream",
     "text": [
      "WARNING:absl:1738 images were corrupted and were skipped\n"
     ]
    },
    {
     "data": {
      "application/vnd.jupyter.widget-view+json": {
       "model_id": "d74bb978be144913be0422a0258815c8",
       "version_major": 2,
       "version_minor": 0
      },
      "text/plain": [
       "Shuffling /root/tensorflow_datasets/cats_vs_dogs/incomplete.Q9BKOK_4.0.1/cats_vs_dogs-train.tfrecord*...:   0%…"
      ]
     },
     "metadata": {},
     "output_type": "display_data"
    },
    {
     "name": "stdout",
     "output_type": "stream",
     "text": [
      "Dataset cats_vs_dogs downloaded and prepared to /root/tensorflow_datasets/cats_vs_dogs/4.0.1. Subsequent calls will reuse this data.\n",
      "23262\n",
      "2\n"
     ]
    }
   ],
   "source": [
    "(train, validation, test), metadata = tfds.load(\n",
    "                                        'cats_vs_dogs',\n",
    "                                        split=['train[:80%]', 'train[80%:90%]', 'train[90%:]'],\n",
    "                                        with_info=True,\n",
    "                                        as_supervised=True\n",
    "                                      )\n",
    "num_examples = metadata.splits['train'].num_examples\n",
    "num_classes = metadata.features['label'].num_classes\n",
    "print(num_examples)\n",
    "print(num_classes)"
   ]
  },
  {
   "cell_type": "markdown",
   "metadata": {
    "id": "kCcWtOiiB0iz"
   },
   "source": [
    "# Resize and normalize images"
   ]
  },
  {
   "cell_type": "code",
   "execution_count": null,
   "metadata": {},
   "outputs": [],
   "source": [
    "IMAGE_SIZE = (224, 224)\n",
    "\n",
    "def format_image(image, label):\n",
    "    image = tf.image.resize(image, IMAGE_SIZE) / 255.0\n",
    "    return image, label"
   ]
  },
  {
   "cell_type": "markdown",
   "metadata": {
    "id": "J0Gd-6YeB4fT"
   },
   "source": [
    "# Prepare batches for training, validation, and testing"
   ]
  },
  {
   "cell_type": "code",
   "execution_count": null,
   "metadata": {},
   "outputs": [],
   "source": [
    "BATCH_SIZE = 32\n",
    "\n",
    "## Training Batch\n",
    "train_batches = train.shuffle(num_examples // 4).map(format_image).batch(BATCH_SIZE).prefetch(1)\n",
    "\n",
    "## Validation Batch\n",
    "validation_batches = validation.map(format_image).batch(BATCH_SIZE).prefetch(1)\n",
    "\n",
    "## Test batch\n",
    "test_batches = test.map(format_image).batch(1)"
   ]
  },
  {
   "cell_type": "markdown",
   "metadata": {
    "id": "pGS1efQJB7qK"
   },
   "source": [
    "# Load MobileNetV2 base model without top layers, pretrained on ImageNet"
   ]
  },
  {
   "cell_type": "code",
   "execution_count": null,
   "metadata": {},
   "outputs": [
    {
     "name": "stdout",
     "output_type": "stream",
     "text": [
      "Downloading data from https://storage.googleapis.com/tensorflow/keras-applications/mobilenet_v2/mobilenet_v2_weights_tf_dim_ordering_tf_kernels_1.0_224_no_top.h5\n",
      "\u001b[1m9406464/9406464\u001b[0m \u001b[32m━━━━━━━━━━━━━━━━━━━━\u001b[0m\u001b[37m\u001b[0m \u001b[1m2s\u001b[0m 0us/step\n"
     ]
    }
   ],
   "source": [
    "base_model = tf.keras.applications.MobileNetV2(\n",
    "        input_shape=IMAGE_SIZE + (3,),\n",
    "        include_top=False,\n",
    "        weights='imagenet',\n",
    "        pooling='avg'  # Global average pooling\n",
    "    )\n",
    "\n",
    "    # Freeze the base model\n",
    "base_model.trainable = False\n",
    "\n",
    "    # Build the model\n",
    "model = tf.keras.Sequential([\n",
    "        base_model,\n",
    "        tf.keras.layers.Dense(num_classes, activation='softmax')\n",
    "    ])"
   ]
  },
  {
   "cell_type": "markdown",
   "metadata": {
    "id": "HBa4I3kuWjkO"
   },
   "source": [
    "# Compile and train"
   ]
  },
  {
   "cell_type": "code",
   "execution_count": null,
   "metadata": {},
   "outputs": [
    {
     "name": "stdout",
     "output_type": "stream",
     "text": [
      "Epoch 1/5\n",
      "\u001b[1m582/582\u001b[0m \u001b[32m━━━━━━━━━━━━━━━━━━━━\u001b[0m\u001b[37m\u001b[0m \u001b[1m57s\u001b[0m 70ms/step - accuracy: 0.9514 - loss: 0.1151 - val_accuracy: 0.9811 - val_loss: 0.0481\n",
      "Epoch 2/5\n",
      "\u001b[1m582/582\u001b[0m \u001b[32m━━━━━━━━━━━━━━━━━━━━\u001b[0m\u001b[37m\u001b[0m \u001b[1m35s\u001b[0m 49ms/step - accuracy: 0.9852 - loss: 0.0422 - val_accuracy: 0.9837 - val_loss: 0.0475\n",
      "Epoch 3/5\n",
      "\u001b[1m582/582\u001b[0m \u001b[32m━━━━━━━━━━━━━━━━━━━━\u001b[0m\u001b[37m\u001b[0m \u001b[1m35s\u001b[0m 52ms/step - accuracy: 0.9875 - loss: 0.0383 - val_accuracy: 0.9828 - val_loss: 0.0505\n",
      "Epoch 4/5\n",
      "\u001b[1m582/582\u001b[0m \u001b[32m━━━━━━━━━━━━━━━━━━━━\u001b[0m\u001b[37m\u001b[0m \u001b[1m34s\u001b[0m 49ms/step - accuracy: 0.9900 - loss: 0.0306 - val_accuracy: 0.9819 - val_loss: 0.0502\n",
      "Epoch 5/5\n",
      "\u001b[1m582/582\u001b[0m \u001b[32m━━━━━━━━━━━━━━━━━━━━\u001b[0m\u001b[37m\u001b[0m \u001b[1m35s\u001b[0m 53ms/step - accuracy: 0.9884 - loss: 0.0316 - val_accuracy: 0.9828 - val_loss: 0.0498\n"
     ]
    }
   ],
   "source": [
    "base_model = tf.keras.applications.MobileNetV2(input_shape=IMAGE_SIZE + (3,),\n",
    "                                               include_top=False,\n",
    "                                               weights='imagenet')\n",
    "\n",
    "# Freeze the base model\n",
    "base_model.trainable = False\n",
    "\n",
    "# Build the model\n",
    "model = tf.keras.Sequential([\n",
    "    base_model,\n",
    "    tf.keras.layers.GlobalAveragePooling2D(), # Add a GlobalAveragePooling2D layer\n",
    "    tf.keras.layers.Dense(num_classes, activation='softmax')\n",
    "])\n",
    "\n",
    "model.compile(optimizer='adam',\n",
    "              loss='sparse_categorical_crossentropy',\n",
    "              metrics=['accuracy'])\n",
    "\n",
    "history = model.fit(train_batches, epochs=5, validation_data=validation_batches)"
   ]
  },
  {
   "cell_type": "markdown",
   "metadata": {
    "id": "55ZbFLhECDV2"
   },
   "source": [
    "# Save model in SavedModel format"
   ]
  },
  {
   "cell_type": "code",
   "execution_count": null,
   "metadata": {},
   "outputs": [],
   "source": [
    "PetVision_model = \"/content/drive/MyDrive/PetVision-TFLite/pet_vision_model\"\n",
    "tf.saved_model.save(model, PetVision_model)"
   ]
  },
  {
   "cell_type": "markdown",
   "metadata": {
    "id": "07pvMFyVzI0_"
   },
   "source": [
    "# Convert to TensorFlow Lite model"
   ]
  },
  {
   "cell_type": "code",
   "execution_count": null,
   "metadata": {},
   "outputs": [
    {
     "name": "stdout",
     "output_type": "stream",
     "text": [
      "Saved artifact at '/tmp/tmpz_hf_35f'. The following endpoints are available:\n",
      "\n",
      "* Endpoint 'serve'\n",
      "  args_0 (POSITIONAL_ONLY): TensorSpec(shape=(None, 224, 224, 3), dtype=tf.float32, name='keras_tensor_312')\n",
      "Output Type:\n",
      "  TensorSpec(shape=(None, 2), dtype=tf.float32, name=None)\n",
      "Captures:\n",
      "  139286434454736: TensorSpec(shape=(), dtype=tf.resource, name=None)\n",
      "  139285388115024: TensorSpec(shape=(), dtype=tf.resource, name=None)\n",
      "  139286434455504: TensorSpec(shape=(), dtype=tf.resource, name=None)\n",
      "  139285387711440: TensorSpec(shape=(), dtype=tf.resource, name=None)\n",
      "  139286434455120: TensorSpec(shape=(), dtype=tf.resource, name=None)\n",
      "  139286434455312: TensorSpec(shape=(), dtype=tf.resource, name=None)\n",
      "  139285388115216: TensorSpec(shape=(), dtype=tf.resource, name=None)\n",
      "  139285445896400: TensorSpec(shape=(), dtype=tf.resource, name=None)\n",
      "  139286434454928: TensorSpec(shape=(), dtype=tf.resource, name=None)\n",
      "  139285387710480: TensorSpec(shape=(), dtype=tf.resource, name=None)\n",
      "  139285445896592: TensorSpec(shape=(), dtype=tf.resource, name=None)\n",
      "  139285445896016: TensorSpec(shape=(), dtype=tf.resource, name=None)\n",
      "  139285445895824: TensorSpec(shape=(), dtype=tf.resource, name=None)\n",
      "  139285445892560: TensorSpec(shape=(), dtype=tf.resource, name=None)\n",
      "  139285445897360: TensorSpec(shape=(), dtype=tf.resource, name=None)\n",
      "  139285445894480: TensorSpec(shape=(), dtype=tf.resource, name=None)\n",
      "  139285445896208: TensorSpec(shape=(), dtype=tf.resource, name=None)\n",
      "  139285445897168: TensorSpec(shape=(), dtype=tf.resource, name=None)\n",
      "  139285445896976: TensorSpec(shape=(), dtype=tf.resource, name=None)\n",
      "  139285445898320: TensorSpec(shape=(), dtype=tf.resource, name=None)\n",
      "  139285445897744: TensorSpec(shape=(), dtype=tf.resource, name=None)\n",
      "  139285445897936: TensorSpec(shape=(), dtype=tf.resource, name=None)\n",
      "  139285445898128: TensorSpec(shape=(), dtype=tf.resource, name=None)\n",
      "  139285445896784: TensorSpec(shape=(), dtype=tf.resource, name=None)\n",
      "  139285445899280: TensorSpec(shape=(), dtype=tf.resource, name=None)\n",
      "  139285445898704: TensorSpec(shape=(), dtype=tf.resource, name=None)\n",
      "  139285445898896: TensorSpec(shape=(), dtype=tf.resource, name=None)\n",
      "  139285445899088: TensorSpec(shape=(), dtype=tf.resource, name=None)\n",
      "  139285445895440: TensorSpec(shape=(), dtype=tf.resource, name=None)\n",
      "  139285445900240: TensorSpec(shape=(), dtype=tf.resource, name=None)\n",
      "  139285445899664: TensorSpec(shape=(), dtype=tf.resource, name=None)\n",
      "  139285445899856: TensorSpec(shape=(), dtype=tf.resource, name=None)\n",
      "  139285445900048: TensorSpec(shape=(), dtype=tf.resource, name=None)\n",
      "  139285445897552: TensorSpec(shape=(), dtype=tf.resource, name=None)\n",
      "  139285445901200: TensorSpec(shape=(), dtype=tf.resource, name=None)\n",
      "  139285445900624: TensorSpec(shape=(), dtype=tf.resource, name=None)\n",
      "  139285445900816: TensorSpec(shape=(), dtype=tf.resource, name=None)\n",
      "  139285445901584: TensorSpec(shape=(), dtype=tf.resource, name=None)\n",
      "  139285445898512: TensorSpec(shape=(), dtype=tf.resource, name=None)\n",
      "  139285445902160: TensorSpec(shape=(), dtype=tf.resource, name=None)\n",
      "  139285445901008: TensorSpec(shape=(), dtype=tf.resource, name=None)\n",
      "  139285445901776: TensorSpec(shape=(), dtype=tf.resource, name=None)\n",
      "  139285445899472: TensorSpec(shape=(), dtype=tf.resource, name=None)\n",
      "  139285445901968: TensorSpec(shape=(), dtype=tf.resource, name=None)\n",
      "  139285445901392: TensorSpec(shape=(), dtype=tf.resource, name=None)\n",
      "  139285445900432: TensorSpec(shape=(), dtype=tf.resource, name=None)\n",
      "  139285527725648: TensorSpec(shape=(), dtype=tf.resource, name=None)\n",
      "  139285527725840: TensorSpec(shape=(), dtype=tf.resource, name=None)\n",
      "  139285527725072: TensorSpec(shape=(), dtype=tf.resource, name=None)\n",
      "  139285527724496: TensorSpec(shape=(), dtype=tf.resource, name=None)\n",
      "  139285527724304: TensorSpec(shape=(), dtype=tf.resource, name=None)\n",
      "  139285527725456: TensorSpec(shape=(), dtype=tf.resource, name=None)\n",
      "  139285527725264: TensorSpec(shape=(), dtype=tf.resource, name=None)\n",
      "  139285527724880: TensorSpec(shape=(), dtype=tf.resource, name=None)\n",
      "  139285527726800: TensorSpec(shape=(), dtype=tf.resource, name=None)\n",
      "  139285527726224: TensorSpec(shape=(), dtype=tf.resource, name=None)\n",
      "  139285527726416: TensorSpec(shape=(), dtype=tf.resource, name=None)\n",
      "  139285527726608: TensorSpec(shape=(), dtype=tf.resource, name=None)\n",
      "  139285527724112: TensorSpec(shape=(), dtype=tf.resource, name=None)\n",
      "  139285527727760: TensorSpec(shape=(), dtype=tf.resource, name=None)\n",
      "  139285527727184: TensorSpec(shape=(), dtype=tf.resource, name=None)\n",
      "  139285527727376: TensorSpec(shape=(), dtype=tf.resource, name=None)\n",
      "  139285527727568: TensorSpec(shape=(), dtype=tf.resource, name=None)\n",
      "  139285527724688: TensorSpec(shape=(), dtype=tf.resource, name=None)\n",
      "  139285527728720: TensorSpec(shape=(), dtype=tf.resource, name=None)\n",
      "  139285527728144: TensorSpec(shape=(), dtype=tf.resource, name=None)\n",
      "  139285527728336: TensorSpec(shape=(), dtype=tf.resource, name=None)\n",
      "  139285527728528: TensorSpec(shape=(), dtype=tf.resource, name=None)\n",
      "  139285527726032: TensorSpec(shape=(), dtype=tf.resource, name=None)\n",
      "  139285527729680: TensorSpec(shape=(), dtype=tf.resource, name=None)\n",
      "  139285527729104: TensorSpec(shape=(), dtype=tf.resource, name=None)\n",
      "  139285527729296: TensorSpec(shape=(), dtype=tf.resource, name=None)\n",
      "  139285527729488: TensorSpec(shape=(), dtype=tf.resource, name=None)\n",
      "  139285527726992: TensorSpec(shape=(), dtype=tf.resource, name=None)\n",
      "  139285527730640: TensorSpec(shape=(), dtype=tf.resource, name=None)\n",
      "  139285527730064: TensorSpec(shape=(), dtype=tf.resource, name=None)\n",
      "  139285527730256: TensorSpec(shape=(), dtype=tf.resource, name=None)\n",
      "  139285527730448: TensorSpec(shape=(), dtype=tf.resource, name=None)\n",
      "  139285527727952: TensorSpec(shape=(), dtype=tf.resource, name=None)\n",
      "  139285527731600: TensorSpec(shape=(), dtype=tf.resource, name=None)\n",
      "  139285527731024: TensorSpec(shape=(), dtype=tf.resource, name=None)\n",
      "  139285527731216: TensorSpec(shape=(), dtype=tf.resource, name=None)\n",
      "  139285527731408: TensorSpec(shape=(), dtype=tf.resource, name=None)\n",
      "  139285527728912: TensorSpec(shape=(), dtype=tf.resource, name=None)\n",
      "  139285527732560: TensorSpec(shape=(), dtype=tf.resource, name=None)\n",
      "  139285527731984: TensorSpec(shape=(), dtype=tf.resource, name=None)\n",
      "  139285527732176: TensorSpec(shape=(), dtype=tf.resource, name=None)\n",
      "  139285527732368: TensorSpec(shape=(), dtype=tf.resource, name=None)\n",
      "  139285527729872: TensorSpec(shape=(), dtype=tf.resource, name=None)\n",
      "  139285527733520: TensorSpec(shape=(), dtype=tf.resource, name=None)\n",
      "  139285527732944: TensorSpec(shape=(), dtype=tf.resource, name=None)\n",
      "  139285527733136: TensorSpec(shape=(), dtype=tf.resource, name=None)\n",
      "  139285527733328: TensorSpec(shape=(), dtype=tf.resource, name=None)\n",
      "  139285527730832: TensorSpec(shape=(), dtype=tf.resource, name=None)\n",
      "  139285527734480: TensorSpec(shape=(), dtype=tf.resource, name=None)\n",
      "  139285527733904: TensorSpec(shape=(), dtype=tf.resource, name=None)\n",
      "  139285527734096: TensorSpec(shape=(), dtype=tf.resource, name=None)\n",
      "  139285527734288: TensorSpec(shape=(), dtype=tf.resource, name=None)\n",
      "  139285527731792: TensorSpec(shape=(), dtype=tf.resource, name=None)\n",
      "  139285527735440: TensorSpec(shape=(), dtype=tf.resource, name=None)\n",
      "  139285527734864: TensorSpec(shape=(), dtype=tf.resource, name=None)\n",
      "  139285527735056: TensorSpec(shape=(), dtype=tf.resource, name=None)\n",
      "  139285527735248: TensorSpec(shape=(), dtype=tf.resource, name=None)\n",
      "  139285527732752: TensorSpec(shape=(), dtype=tf.resource, name=None)\n",
      "  139285527736400: TensorSpec(shape=(), dtype=tf.resource, name=None)\n",
      "  139285527735824: TensorSpec(shape=(), dtype=tf.resource, name=None)\n",
      "  139285527736016: TensorSpec(shape=(), dtype=tf.resource, name=None)\n",
      "  139285527736208: TensorSpec(shape=(), dtype=tf.resource, name=None)\n",
      "  139285527733712: TensorSpec(shape=(), dtype=tf.resource, name=None)\n",
      "  139285527737360: TensorSpec(shape=(), dtype=tf.resource, name=None)\n",
      "  139285527736784: TensorSpec(shape=(), dtype=tf.resource, name=None)\n",
      "  139285527736976: TensorSpec(shape=(), dtype=tf.resource, name=None)\n",
      "  139285527737168: TensorSpec(shape=(), dtype=tf.resource, name=None)\n",
      "  139285527734672: TensorSpec(shape=(), dtype=tf.resource, name=None)\n",
      "  139285527738320: TensorSpec(shape=(), dtype=tf.resource, name=None)\n",
      "  139285527737744: TensorSpec(shape=(), dtype=tf.resource, name=None)\n",
      "  139285527737936: TensorSpec(shape=(), dtype=tf.resource, name=None)\n",
      "  139285527738128: TensorSpec(shape=(), dtype=tf.resource, name=None)\n",
      "  139285527735632: TensorSpec(shape=(), dtype=tf.resource, name=None)\n",
      "  139285527739280: TensorSpec(shape=(), dtype=tf.resource, name=None)\n",
      "  139285527738704: TensorSpec(shape=(), dtype=tf.resource, name=None)\n",
      "  139285527738896: TensorSpec(shape=(), dtype=tf.resource, name=None)\n",
      "  139285527739664: TensorSpec(shape=(), dtype=tf.resource, name=None)\n",
      "  139285527736592: TensorSpec(shape=(), dtype=tf.resource, name=None)\n",
      "  139285527740240: TensorSpec(shape=(), dtype=tf.resource, name=None)\n",
      "  139285527739088: TensorSpec(shape=(), dtype=tf.resource, name=None)\n",
      "  139285527739856: TensorSpec(shape=(), dtype=tf.resource, name=None)\n",
      "  139285527737552: TensorSpec(shape=(), dtype=tf.resource, name=None)\n",
      "  139285527740048: TensorSpec(shape=(), dtype=tf.resource, name=None)\n",
      "  139285527739472: TensorSpec(shape=(), dtype=tf.resource, name=None)\n",
      "  139285527738512: TensorSpec(shape=(), dtype=tf.resource, name=None)\n",
      "  139285044577872: TensorSpec(shape=(), dtype=tf.resource, name=None)\n",
      "  139285044578064: TensorSpec(shape=(), dtype=tf.resource, name=None)\n",
      "  139285044577296: TensorSpec(shape=(), dtype=tf.resource, name=None)\n",
      "  139285044576720: TensorSpec(shape=(), dtype=tf.resource, name=None)\n",
      "  139285044576528: TensorSpec(shape=(), dtype=tf.resource, name=None)\n",
      "  139285044577680: TensorSpec(shape=(), dtype=tf.resource, name=None)\n",
      "  139285044577488: TensorSpec(shape=(), dtype=tf.resource, name=None)\n",
      "  139285044577104: TensorSpec(shape=(), dtype=tf.resource, name=None)\n",
      "  139285044579024: TensorSpec(shape=(), dtype=tf.resource, name=None)\n",
      "  139285044578448: TensorSpec(shape=(), dtype=tf.resource, name=None)\n",
      "  139285044578640: TensorSpec(shape=(), dtype=tf.resource, name=None)\n",
      "  139285044578832: TensorSpec(shape=(), dtype=tf.resource, name=None)\n",
      "  139285044576336: TensorSpec(shape=(), dtype=tf.resource, name=None)\n",
      "  139285044579984: TensorSpec(shape=(), dtype=tf.resource, name=None)\n",
      "  139285044579408: TensorSpec(shape=(), dtype=tf.resource, name=None)\n",
      "  139285044579600: TensorSpec(shape=(), dtype=tf.resource, name=None)\n",
      "  139285044579792: TensorSpec(shape=(), dtype=tf.resource, name=None)\n",
      "  139285044576912: TensorSpec(shape=(), dtype=tf.resource, name=None)\n",
      "  139285044580944: TensorSpec(shape=(), dtype=tf.resource, name=None)\n",
      "  139285044580368: TensorSpec(shape=(), dtype=tf.resource, name=None)\n",
      "  139285044580560: TensorSpec(shape=(), dtype=tf.resource, name=None)\n",
      "  139285044580752: TensorSpec(shape=(), dtype=tf.resource, name=None)\n",
      "  139285044578256: TensorSpec(shape=(), dtype=tf.resource, name=None)\n",
      "  139285044581904: TensorSpec(shape=(), dtype=tf.resource, name=None)\n",
      "  139285044581328: TensorSpec(shape=(), dtype=tf.resource, name=None)\n",
      "  139285044581520: TensorSpec(shape=(), dtype=tf.resource, name=None)\n",
      "  139285044581712: TensorSpec(shape=(), dtype=tf.resource, name=None)\n",
      "  139285044579216: TensorSpec(shape=(), dtype=tf.resource, name=None)\n",
      "  139285044582864: TensorSpec(shape=(), dtype=tf.resource, name=None)\n",
      "  139285044582288: TensorSpec(shape=(), dtype=tf.resource, name=None)\n",
      "  139285044582480: TensorSpec(shape=(), dtype=tf.resource, name=None)\n",
      "  139285044582672: TensorSpec(shape=(), dtype=tf.resource, name=None)\n",
      "  139285044580176: TensorSpec(shape=(), dtype=tf.resource, name=None)\n",
      "  139285044583824: TensorSpec(shape=(), dtype=tf.resource, name=None)\n",
      "  139285044583248: TensorSpec(shape=(), dtype=tf.resource, name=None)\n",
      "  139285044583440: TensorSpec(shape=(), dtype=tf.resource, name=None)\n",
      "  139285044583632: TensorSpec(shape=(), dtype=tf.resource, name=None)\n",
      "  139285044581136: TensorSpec(shape=(), dtype=tf.resource, name=None)\n",
      "  139285044584784: TensorSpec(shape=(), dtype=tf.resource, name=None)\n",
      "  139285044584208: TensorSpec(shape=(), dtype=tf.resource, name=None)\n",
      "  139285044584400: TensorSpec(shape=(), dtype=tf.resource, name=None)\n",
      "  139285044584592: TensorSpec(shape=(), dtype=tf.resource, name=None)\n",
      "  139285044582096: TensorSpec(shape=(), dtype=tf.resource, name=None)\n",
      "  139285044585744: TensorSpec(shape=(), dtype=tf.resource, name=None)\n",
      "  139285044585168: TensorSpec(shape=(), dtype=tf.resource, name=None)\n",
      "  139285044585360: TensorSpec(shape=(), dtype=tf.resource, name=None)\n",
      "  139285044585552: TensorSpec(shape=(), dtype=tf.resource, name=None)\n",
      "  139285044583056: TensorSpec(shape=(), dtype=tf.resource, name=None)\n",
      "  139285044586704: TensorSpec(shape=(), dtype=tf.resource, name=None)\n",
      "  139285044586128: TensorSpec(shape=(), dtype=tf.resource, name=None)\n",
      "  139285044586320: TensorSpec(shape=(), dtype=tf.resource, name=None)\n",
      "  139285044586512: TensorSpec(shape=(), dtype=tf.resource, name=None)\n",
      "  139285044584016: TensorSpec(shape=(), dtype=tf.resource, name=None)\n",
      "  139285044587664: TensorSpec(shape=(), dtype=tf.resource, name=None)\n",
      "  139285044587088: TensorSpec(shape=(), dtype=tf.resource, name=None)\n",
      "  139285044587280: TensorSpec(shape=(), dtype=tf.resource, name=None)\n",
      "  139285044587472: TensorSpec(shape=(), dtype=tf.resource, name=None)\n",
      "  139285044584976: TensorSpec(shape=(), dtype=tf.resource, name=None)\n",
      "  139285044588624: TensorSpec(shape=(), dtype=tf.resource, name=None)\n",
      "  139285044588048: TensorSpec(shape=(), dtype=tf.resource, name=None)\n",
      "  139285044588240: TensorSpec(shape=(), dtype=tf.resource, name=None)\n",
      "  139285044588432: TensorSpec(shape=(), dtype=tf.resource, name=None)\n",
      "  139285044585936: TensorSpec(shape=(), dtype=tf.resource, name=None)\n",
      "  139285044589584: TensorSpec(shape=(), dtype=tf.resource, name=None)\n",
      "  139285044589008: TensorSpec(shape=(), dtype=tf.resource, name=None)\n",
      "  139285044589200: TensorSpec(shape=(), dtype=tf.resource, name=None)\n",
      "  139285044589392: TensorSpec(shape=(), dtype=tf.resource, name=None)\n",
      "  139285044586896: TensorSpec(shape=(), dtype=tf.resource, name=None)\n",
      "  139285044590544: TensorSpec(shape=(), dtype=tf.resource, name=None)\n",
      "  139285044589968: TensorSpec(shape=(), dtype=tf.resource, name=None)\n",
      "  139285044590160: TensorSpec(shape=(), dtype=tf.resource, name=None)\n",
      "  139285044590352: TensorSpec(shape=(), dtype=tf.resource, name=None)\n",
      "  139285044587856: TensorSpec(shape=(), dtype=tf.resource, name=None)\n",
      "  139285044591504: TensorSpec(shape=(), dtype=tf.resource, name=None)\n",
      "  139285044590928: TensorSpec(shape=(), dtype=tf.resource, name=None)\n",
      "  139285044591120: TensorSpec(shape=(), dtype=tf.resource, name=None)\n",
      "  139285044591888: TensorSpec(shape=(), dtype=tf.resource, name=None)\n",
      "  139285044588816: TensorSpec(shape=(), dtype=tf.resource, name=None)\n",
      "  139285044592464: TensorSpec(shape=(), dtype=tf.resource, name=None)\n",
      "  139285044591312: TensorSpec(shape=(), dtype=tf.resource, name=None)\n",
      "  139285044592080: TensorSpec(shape=(), dtype=tf.resource, name=None)\n",
      "  139285044589776: TensorSpec(shape=(), dtype=tf.resource, name=None)\n",
      "  139285044592272: TensorSpec(shape=(), dtype=tf.resource, name=None)\n",
      "  139285044591696: TensorSpec(shape=(), dtype=tf.resource, name=None)\n",
      "  139285044590736: TensorSpec(shape=(), dtype=tf.resource, name=None)\n",
      "  139285447050832: TensorSpec(shape=(), dtype=tf.resource, name=None)\n",
      "  139285447051024: TensorSpec(shape=(), dtype=tf.resource, name=None)\n",
      "  139285447050256: TensorSpec(shape=(), dtype=tf.resource, name=None)\n",
      "  139285447049680: TensorSpec(shape=(), dtype=tf.resource, name=None)\n",
      "  139285447049488: TensorSpec(shape=(), dtype=tf.resource, name=None)\n",
      "  139285447050640: TensorSpec(shape=(), dtype=tf.resource, name=None)\n",
      "  139285447050448: TensorSpec(shape=(), dtype=tf.resource, name=None)\n",
      "  139285447050064: TensorSpec(shape=(), dtype=tf.resource, name=None)\n",
      "  139285447051984: TensorSpec(shape=(), dtype=tf.resource, name=None)\n",
      "  139285447051408: TensorSpec(shape=(), dtype=tf.resource, name=None)\n",
      "  139285447051600: TensorSpec(shape=(), dtype=tf.resource, name=None)\n",
      "  139285447051792: TensorSpec(shape=(), dtype=tf.resource, name=None)\n",
      "  139285447049296: TensorSpec(shape=(), dtype=tf.resource, name=None)\n",
      "  139285447052944: TensorSpec(shape=(), dtype=tf.resource, name=None)\n",
      "  139285447052368: TensorSpec(shape=(), dtype=tf.resource, name=None)\n",
      "  139285447052560: TensorSpec(shape=(), dtype=tf.resource, name=None)\n",
      "  139285447052752: TensorSpec(shape=(), dtype=tf.resource, name=None)\n",
      "  139285447049872: TensorSpec(shape=(), dtype=tf.resource, name=None)\n",
      "  139285447053904: TensorSpec(shape=(), dtype=tf.resource, name=None)\n",
      "  139285447053328: TensorSpec(shape=(), dtype=tf.resource, name=None)\n",
      "  139285447053520: TensorSpec(shape=(), dtype=tf.resource, name=None)\n",
      "  139285447053712: TensorSpec(shape=(), dtype=tf.resource, name=None)\n",
      "  139285447051216: TensorSpec(shape=(), dtype=tf.resource, name=None)\n",
      "  139285447054864: TensorSpec(shape=(), dtype=tf.resource, name=None)\n",
      "  139285447054288: TensorSpec(shape=(), dtype=tf.resource, name=None)\n",
      "  139285447054480: TensorSpec(shape=(), dtype=tf.resource, name=None)\n",
      "  139285447054672: TensorSpec(shape=(), dtype=tf.resource, name=None)\n",
      "  139285447052176: TensorSpec(shape=(), dtype=tf.resource, name=None)\n",
      "  139285447055824: TensorSpec(shape=(), dtype=tf.resource, name=None)\n",
      "  139285447055248: TensorSpec(shape=(), dtype=tf.resource, name=None)\n",
      "  139285447055440: TensorSpec(shape=(), dtype=tf.resource, name=None)\n",
      "  139285447055632: TensorSpec(shape=(), dtype=tf.resource, name=None)\n",
      "  139285447053136: TensorSpec(shape=(), dtype=tf.resource, name=None)\n",
      "  139285447056784: TensorSpec(shape=(), dtype=tf.resource, name=None)\n",
      "  139285447056208: TensorSpec(shape=(), dtype=tf.resource, name=None)\n",
      "  139285447056400: TensorSpec(shape=(), dtype=tf.resource, name=None)\n",
      "  139285447056592: TensorSpec(shape=(), dtype=tf.resource, name=None)\n",
      "  139285447054096: TensorSpec(shape=(), dtype=tf.resource, name=None)\n",
      "  139285447057744: TensorSpec(shape=(), dtype=tf.resource, name=None)\n",
      "  139285447057168: TensorSpec(shape=(), dtype=tf.resource, name=None)\n",
      "  139285447057360: TensorSpec(shape=(), dtype=tf.resource, name=None)\n",
      "  139285447057552: TensorSpec(shape=(), dtype=tf.resource, name=None)\n",
      "  139285447055056: TensorSpec(shape=(), dtype=tf.resource, name=None)\n",
      "  139285447058704: TensorSpec(shape=(), dtype=tf.resource, name=None)\n",
      "  139285548958544: TensorSpec(shape=(), dtype=tf.resource, name=None)\n",
      "  139285548160336: TensorSpec(shape=(), dtype=tf.resource, name=None)\n"
     ]
    }
   ],
   "source": [
    "converter = tf.lite.TFLiteConverter.from_keras_model(model)\n",
    "tflite_model = converter.convert()\n",
    "\n",
    "tflite_model_file = 'pet_vision_model.tflite'\n",
    "with open(tflite_model_file, \"wb\") as f:\n",
    "    f.write(tflite_model)"
   ]
  },
  {
   "cell_type": "markdown",
   "metadata": {
    "id": "V5ImcK3QCL7p"
   },
   "source": [
    "# Load TFLite interpreter and allocate tensors"
   ]
  },
  {
   "cell_type": "code",
   "execution_count": null,
   "metadata": {},
   "outputs": [
    {
     "name": "stderr",
     "output_type": "stream",
     "text": [
      "/usr/local/lib/python3.11/dist-packages/tensorflow/lite/python/interpreter.py:457: UserWarning:     Warning: tf.lite.Interpreter is deprecated and is scheduled for deletion in\n",
      "    TF 2.20. Please use the LiteRT interpreter from the ai_edge_litert package.\n",
      "    See the [migration guide](https://ai.google.dev/edge/litert/migration)\n",
      "    for details.\n",
      "    \n",
      "  warnings.warn(_INTERPRETER_DELETION_WARNING)\n"
     ]
    }
   ],
   "source": [
    "interpreter = tf.lite.Interpreter(model_path = tflite_model_file)\n",
    "interpreter.allocate_tensors()\n",
    "\n",
    "input_index = interpreter.get_input_details()[0][\"index\"]\n",
    "output_index = interpreter.get_output_details()[0][\"index\"]\n",
    "\n",
    "predictions = []"
   ]
  },
  {
   "cell_type": "markdown",
   "metadata": {
    "id": "ZfR7wLanCQ2v"
   },
   "source": [
    "# Run inference on first 100 test images using TFLite interpreter"
   ]
  },
  {
   "cell_type": "code",
   "execution_count": null,
   "metadata": {},
   "outputs": [],
   "source": [
    "test_labels, test_imgs = [], []\n",
    "for img, label in test_batches.take(100):\n",
    "  interpreter.set_tensor(input_index, img)\n",
    "  interpreter.invoke()\n",
    "  predictions.append(interpreter.get_tensor(output_index))\n",
    "  test_labels.append(label.numpy()[0])\n",
    "  test_imgs.append(img)"
   ]
  },
  {
   "cell_type": "markdown",
   "metadata": {
    "id": "pd_Zq1_kCUXR"
   },
   "source": [
    "# Calculate number of correct predictions out of 100"
   ]
  },
  {
   "cell_type": "code",
   "execution_count": null,
   "metadata": {},
   "outputs": [
    {
     "name": "stdout",
     "output_type": "stream",
     "text": [
      "Out of 100 predictions I got 98 correct\n"
     ]
    }
   ],
   "source": [
    "score = 0\n",
    "for item in range(0,99):\n",
    "  prediction=np.argmax(predictions[item])\n",
    "  label = test_labels[item]\n",
    "  if prediction==label:\n",
    "    score=score+1\n",
    "print(\"Out of 100 predictions I got \" + str(score) + \" correct\")"
   ]
  },
  {
   "cell_type": "markdown",
   "metadata": {
    "id": "KVBKuHwkCYrl"
   },
   "source": [
    "# Define function to plot a single image with prediction info"
   ]
  },
  {
   "cell_type": "code",
   "execution_count": null,
   "metadata": {},
   "outputs": [],
   "source": [
    "def plot_image(i, predictions, true_labels, images):\n",
    "    predictions_array = np.array(predictions[i][0])\n",
    "    true_label = true_labels[i]\n",
    "    img = images[i][0]\n",
    "\n",
    "    plt.grid(False)\n",
    "    plt.xticks([])\n",
    "    plt.yticks([])\n",
    "\n",
    "    plt.imshow(img)\n",
    "\n",
    "    predicted_label = np.argmax(predictions_array)\n",
    "    if predicted_label == true_label:\n",
    "        color = 'blue'\n",
    "    else:\n",
    "        color = 'red'\n",
    "\n",
    "    plt.xlabel(\n",
    "        \"Predicted: {} ({:2.0f}%)\\nTrue: {}\".format(\n",
    "            predicted_label,\n",
    "            100 * np.max(predictions_array),\n",
    "            true_label\n",
    "        ),\n",
    "        color=color\n",
    "    )\n"
   ]
  },
  {
   "cell_type": "markdown",
   "metadata": {
    "id": "7UfyfSgDCdHj"
   },
   "source": [
    "# Plot test images in a grid, 3 images per row, using existing plot_image function"
   ]
  },
  {
   "cell_type": "code",
   "execution_count": 14,
   "metadata": {},
   "outputs": [
    {
     "data": {
      "text/plain": [
       "Output hidden; open in https://colab.research.google.com to view."
      ]
     },
     "metadata": {},
     "output_type": "display_data"
    }
   ],
   "source": [
    "num_images = 60\n",
    "images_per_row = 3\n",
    "rows = num_images // images_per_row + int(num_images % images_per_row > 0)\n",
    "\n",
    "plt.figure(figsize=(5 * images_per_row, 4 * rows))\n",
    "\n",
    "for i in range(num_images):\n",
    "    plt.subplot(rows, images_per_row, i + 1)\n",
    "    plot_image(i, predictions, test_labels, test_imgs)\n",
    "\n",
    "plt.tight_layout()\n",
    "plt.show()"
   ]
  },
  {
   "cell_type": "code",
   "execution_count": null,
   "metadata": {},
   "outputs": [],
   "source": []
  }
 ],
 "metadata": {
  "language_info": {
   "name": "python"
  }
 },
 "nbformat": 4,
 "nbformat_minor": 0
}
